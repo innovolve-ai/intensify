{
 "cells": [
  {
   "cell_type": "markdown",
   "metadata": {},
   "source": [
    "\n",
    "\n",
    "\n",
    "\n",
    "What is the best shape for micro-scale flows, and how should these shapes be packed together into a porous structure to optimise adsorptive processes, or indeed other processes?\n",
    "\n",
    "This question, or variants of it have been investigated from many different perspectives for more than 100 years. Is there anything new that can be said, or shown?\n",
    "\n",
    "With the design requirements for the overall system established in the previous section, attention naturally turns to nature of the flows inside the porous structure, and there are many competing paradigms for layout:\n",
    " - Common Porous Materials: Randomly packed beds of spheres, thin laminates stacked together, monoliths, foam etc.\n",
    " - Microchannels: Tiny channels in plates of different dimensions (nm to cm), which may include porous material\n",
    " - Biological Designs: Branching networks of smaller and smaller tubes in an artery/vein or ladder layout\n",
    " - Other Shape Designs: Tubes, straws, trusses, triply periodic minimal surfaces etc.\n",
    "\n",
    "Any new investigation would need some approach to unifying these diverse layout paradigms, and a method to comparing them in depth, across extensive variations. But where to start?\n",
    "\n",
    "The approach one takes to defining the smallest scale, constrains the possible shapes and packing layout that can be used. The first question to consider is \"what defines the smallest scale in a porous structure?\"\n",
    "\n",
    "\n",
    "\n",
    "# Background - Size and Layout\n",
    "\n",
    "In order to unify the different shape and layout paradigms a series of bounds are needed to reduce the set of alternatives, from infinite down to a solvable number of variations. Further, these bounds must form the foundation around which a classification and configuration scheme can then be established. \n",
    "\n",
    "The inital bounds are defined by the rather extreme design constraints, chosen to throw the performance impact of shape into high relief:\n",
    "\n",
    " - Stokes Flow Regime: The overall system velocity $ (U _0 = 1 m/s) $ produces laminar flow\n",
    " - Tiny Pressure Drop: The velocity is driven by $ \\Delta P = 10 kPa $, over system length of $L = 500 mm$\n",
    " - Fast Diffusion Speed: The diffusion time is $ 1/10^{th} $ of the residence time $(t _{diff} = \\frac {t _{res}}{10} $\n",
    " - Fast Thermal Swing: Swing of $t _{swing} = 5 secs $ between minimum $(T _1 = 308 K)$ and maximum $(T _2 = 368 K)$ (NB. This bound is not considered in this section)\n",
    "\n",
    "However, these constraints alone are insufficient to reduce the potential number of different shapes, and some additional rules must be set. \n",
    "\n",
    "The idea of a terminal scale, where adsorption takes place, or a shape dimension based on manufacturing or economic limits is common one. Each of the previous studies have been based on some fixed micro-scale, usually based on some rationale or limitation. \n",
    "\n",
    "The open question lies in the choice of rationale for this minimum dimension. It is obviously advantageous for the designer if it is based on some performance criteria, rather than based on manufacturing constraints, or conventional practice. \n",
    "\n",
    "But, what is the best way of defining the minimum size of any shape for the system under study?\n",
    "\n",
    "\n",
    "## Pressure-Driven Flows\n",
    "One of the key constraints of this study is the extremely low pressure drop of the porous structure, where convection flow through the entire system (assumed length = 500mm) is driven by only 10 kPa presure drop. So \n",
    "\n",
    "$$ (\\frac{\\Delta P}{L}) _{constraint} = 20 \\frac{kPa}{m} $$\n",
    "\n",
    "### Bulk Flow Through the System\n",
    "#### Darcy's Law\n",
    "The pressure drop is the driving potential for convection flow through the entire system, while a high fluid viscosity $(\\mu)$ and low permeability $(\\kappa _{sys})$ are the resistance, and the balance of forces moderates the volumetric flow $(q)$ through the system cross-sectional area $(A)$. This relation is known as Darcy's Law.\n",
    "\n",
    "$$\\frac{\\Delta P}{L} = \\frac{\\mu}{\\kappa} \\cdot q \\cdot \\frac{1}{A}$$\n",
    "\n",
    "The volumetric flow is the overall system velocity $(U _0)$ multiplied by the cross-sectional area\n",
    "\n",
    "$$q = U _0 * A$$\n",
    "\n",
    "Given that the overall system velocity target is $U _0 = 1 m/s$, and the dynamic viscosity of air is taken as $\\mu _{a} = 1.846 \\cdot 10^{-5} Pa \\cdot s$, then the system permeability $(\\kappa _{sys})$ is\n",
    "\n",
    "$$ \\kappa _{sys} = 9.23 \\cdot 10^{-10} m^2 \\notag $$\n",
    "\n",
    "But this high-level, macro-level description about how flow through a system is mediated by a trade-off between driving force and resistance, says little about the shapes inside the system.\n",
    "\n",
    "### Micro Flow Through a Circular Tube\n",
    "#### Hagen Poisueille Law\n",
    "At the micro-scale, inside the system, the structure could be modelled as pressure-driven flow through a circular tube. \n",
    "\n",
    "\n",
    "The Hagen Poisueille Law shows that the relation between the volumetric flow rate $q _1$, of a fluid with viscosity $\\mu$ driven by a pressure drop $\\Delta P$, through a tube of radius $r _1$ and length $L _1$ is\n",
    "\n",
    "$$q _1 = \\frac{\\Delta P \\cdot \\pi \\cdot r _1 ^4}{8 \\cdot \\mu _a \\cdot L _1}$$\n",
    "\n",
    "From Eqn. (4) it can be seen that volumetric flow $q _1$, is proportional to the $4^{th}$ power of the tube radius $r _1$. Given that the pressure drop constraint is known on a per metre basis, eqn. (1) can be applied in place of the actual tube length and pressure drop. Then, combining eqns. (1), (3) and (4) with the area of a circle $(A = \\pi \\cdot r^2)$, gives the average velocity in the tube\n",
    "\n",
    "$$ v _1 = r _1 ^2 \\cdot \\frac{1}{8 \\cdot \\mu _a} \\cdot \\left(\\frac{\\Delta P}{L}\\right) _{constraint} $$\n",
    "\n",
    "From Eqn. (5) it can be seen that at all scales within the porous structure, the average velocity in any tube is proportional to the square of its radius. This relationship is shown in the chart below.\n"
   ]
  },
  {
   "cell_type": "code",
   "execution_count": 37,
   "metadata": {
    "ExecuteTime": {
     "end_time": "2019-04-08T13:16:17.823770Z",
     "start_time": "2019-04-08T13:16:15.829658Z"
    },
    "hide_input": false,
    "scrolled": false
   },
   "outputs": [
    {
     "data": {
      "text/html": [
       "<iframe id=\"igraph\" scrolling=\"no\" style=\"border:none;\" seamless=\"seamless\" src=\"https://plot.ly/~cloudbrett/94.embed\" height=\"525px\" width=\"100%\"></iframe>"
      ],
      "text/plain": [
       "<plotly.tools.PlotlyDisplay object>"
      ]
     },
     "execution_count": 37,
     "metadata": {},
     "output_type": "execute_result"
    }
   ],
   "source": [
    "# Authenticate and Import the Plotting Environment\n",
    "import plotly \n",
    "plotly.tools.set_credentials_file(username='cloudbrett', api_key='LZldvxB8CI3GaaKBEGED')\n",
    "\n",
    "import plotly.plotly as py\n",
    "import plotly.graph_objs as go\n",
    "import numpy as np\n",
    "\n",
    "# calculate velocities and radii for PD = 20kPa/m\n",
    "Terms = 10\n",
    "A = np.arange(0,Terms)\n",
    "rMaxE = -3\n",
    "rMinE = -8\n",
    "rExp = rMinE + (A/Terms)*(rMaxE-rMinE)\n",
    "r_1 = 1* np.float_power(10,rExp) \n",
    "muExp = -5\n",
    "mu = 1.846 * np.float_power(10,muExp)    # mu of air\n",
    "pd = 20000                               # 20kPa/m\n",
    "v_1 = (pd/(8*mu)) * np.float_power(r_1,2) \n",
    "r0 = np.sqrt((8*mu)/pd) \n",
    "r_0 = r_1.copy()\n",
    "r_10 = r_0.fill(r0)\n",
    "v_sys = v_1.copy()\n",
    "v_1sys = v_sys.fill(1.0)\n",
    "\n",
    "# Setup the Colours\n",
    "blue = 'rgb(68, 114, 196)'    # Velocity\n",
    "black = 'rgb(0,0,0)'          # V=1.0 m/s\n",
    "red = 'rgb(192, 0, 0)'        # r at V=1.0m/s\n",
    "yellow = 'rgb(255, 192, 0)'   # N=3, length to radius ratio\n",
    "brown = 'rgb(210,105,30)'     # N=100\n",
    "\n",
    "# setup lines\n",
    "line0 = dict( # Pressure Line\n",
    "    color = (blue),\n",
    "    width = 2\n",
    ")\n",
    "line1 = dict( # V=1m/s\n",
    "    color = (black),\n",
    "    width = 2\n",
    ")\n",
    "line2 = dict( # diameter at V=1m/s\n",
    "    color = (black),\n",
    "    width = 2,\n",
    "    dash = 'dash'\n",
    ")\n",
    "\n",
    "\n",
    "\n",
    "# setup traces\n",
    "trace0 = go.Scatter(\n",
    "    x = r_1,\n",
    "    y = v_1,\n",
    "    mode = 'lines',\n",
    "    name = 'System Pressure Drop',\n",
    "    line = line0\n",
    ")\n",
    "trace1 = go.Scatter(\n",
    "    x = r_1,\n",
    "    y = v_sys,\n",
    "    mode = 'lines',\n",
    "    name = 'System Average Velocity',\n",
    "    line = line1\n",
    ")\n",
    "micron = r0 * 1000000\n",
    "mylabel = f'r = {micron:.2f} micron'\n",
    "trace2 = go.Scatter(\n",
    "    x = r_0,\n",
    "    y = v_1,\n",
    "    mode = 'lines',\n",
    "    name = mylabel,\n",
    "    line = line2\n",
    ")\n",
    "\n",
    "data = [trace0, trace1, trace2]\n",
    "\n",
    "# setup the chart layout\n",
    "layout = go.Layout(\n",
    "    title = 'Velocity vs Tube Radius, for 20 kPa/m',\n",
    "    xaxis=dict(\n",
    "        title='Tube Radius (m)',\n",
    "        type='log',\n",
    "        showline=True,\n",
    "        autorange=True\n",
    "    ),\n",
    "    yaxis=dict(\n",
    "        title='Tube Velocity (m/s)',\n",
    "        type='log',\n",
    "        showline=True,\n",
    "        autorange=True\n",
    "    )\n",
    ")\n",
    "fig = go.Figure(data=data, layout=layout)\n",
    "py.iplot(fig)\n",
    "\n",
    "\n",
    "\n"
   ]
  },
  {
   "cell_type": "markdown",
   "metadata": {
    "ExecuteTime": {
     "end_time": "2019-04-02T12:32:19.557242Z",
     "start_time": "2019-04-02T12:32:19.546306Z"
    }
   },
   "source": [
    "> *Fig. 2.2: Velocity vs Tube Radius for 20 kPa/m Pressure Drop (Blue line), Overall system*\n",
    "> *velocity of 1m/s (Black line), Tube of System Length (500mm), r0 = 85.93 micron (Red line)*"
   ]
  },
  {
   "cell_type": "markdown",
   "metadata": {
    "ExecuteTime": {
     "end_time": "2019-04-02T12:32:19.597134Z",
     "start_time": "2019-04-02T12:32:19.561231Z"
    },
    "hide_input": true
   },
   "source": [
    "Figure 2.2 demonstrates that the system pressure drop can drive convective flow at the Overall System Velocity of 1 m/s down a tube of suprisingly small radius, $r _0 = 85.93 \\mu m$, which is a candidate for the smallest dimension of the system.\n",
    "\n",
    "A second conclusion that can be drawn from Fig. 2.2 is that a pressure drop will force convective flow down even the smallest tube. At first glance this observation seems unimportant, since the size of the tube that produces the average system velocity is known.\n",
    "\n",
    "However, an average system velocity, implies zones of lower and higher velocities that add up to the desired average, and this concept applies at every scale (e.g. micro, meso, macro). Thus, combining both larger and smaller tubes at various scales to produce the overall system velocity still remains interesting.\n",
    "\n",
    "#### Radial Peclet Number - Biological Design\n",
    "\n",
    "Some classes of porous structures are inpsired by biological branching flow schemes (e.g. arteries and veins), and are proposed to offer advantages (lower pressure drop for a given volumetric flow than straight tubes). In this scheme, the branching serves to both split the flows so they can be distributed to irrigate the volume, and slow the flows at the terminal tubes (e.g. capilliaries) so adsorption can occur preferentially, before the spent flows are regathered.\n",
    "\n",
    "The radial Peclet Number $(Pe _r)$ is a non-dimensional number providing the ratio of convective transport to the diffusive transport from the centreline to the wall through distance $r _1$. \n",
    "\n",
    "$$ Pe _r = \\frac{v _1 \\cdot r _1}{D _m}$$\n",
    "\n",
    "Popularised by Bejan (**cite**), the rationale is that when the radial Peclet Number is equal to 1, $(Pe _r = 1)$, then fluid \"packets\" from the centreline have diffused to the wall and therefore the full adsorptive value of the flow stream has been utilised. In short, the residence time of the fluid in the tube is equal to the diffusive time from the centreline to the wall.\n",
    "\n",
    "$$ v_{1Pe_r} = \\frac {D_m}{r _1} $$\n",
    "\n",
    "#### Axial Peclet Number - Smallest Relevant Tube\n",
    "Another approach is to consider the axial Peclet Number $(Pe _a)$, which is the ratio of the convective and diffusive velocities along the length of the tube. \n",
    "\n",
    "$$ Pe_a = \\frac {v _1 \\cdot L _1}{D_m}$$\n",
    "\n",
    "Since the micro tube under study is somewhere in the midst of the system, its length $(L _1)$ is unkown. However, in some systems, the length of the tube is related to an integer number of diameters, for example in the lung this ratio is uniformly N=3 across all sizes of tubes (cite), whereas in engineering a hydrodynamic entrance length of N=10 is assumed. \n",
    "\n",
    "Introducing this length to diameter ratio $(N)$, and making the assumption that the smallest tube of interest to the convective flow designer, is the one where the convective velocity is equal to the diffusive velocity (ie. $Pe = 1$)\n",
    "\n",
    "$$ v_{1Pe_a} = \\frac {D_m}{2 \\cdot N \\cdot r _1} $$\n",
    "\n",
    "The rationale for this concept is that there is no point the convective designer building anything smaller, as diffusion will be faster than pressure-driven flows, so is a true minimum. For comparison purposes, two different size ratios are chosen to highlight the differences between short, fast, fat tubes (N=3), and long, slow, skinny tubes (N=100). The molecular diffusion of methane is taken as $D_m = 1.02 \\cdot 10^{-5} m^2/s$\n",
    "\n",
    "These results can be seen in the chart below."
   ]
  },
  {
   "cell_type": "code",
   "execution_count": 38,
   "metadata": {
    "ExecuteTime": {
     "end_time": "2019-04-08T13:16:19.612985Z",
     "start_time": "2019-04-08T13:16:17.826765Z"
    },
    "code_folding": [],
    "hide_input": true
   },
   "outputs": [
    {
     "data": {
      "text/html": [
       "<iframe id=\"igraph\" scrolling=\"no\" style=\"border:none;\" seamless=\"seamless\" src=\"https://plot.ly/~cloudbrett/96.embed\" height=\"525px\" width=\"100%\"></iframe>"
      ],
      "text/plain": [
       "<plotly.tools.PlotlyDisplay object>"
      ]
     },
     "execution_count": 38,
     "metadata": {},
     "output_type": "execute_result"
    }
   ],
   "source": [
    "# setup lines for the Peclet numbers\n",
    "line3 = dict( # V_pe\n",
    "    color = (yellow),\n",
    "    width = 2\n",
    ")\n",
    "line4 = dict( # radius at v_pe\n",
    "    color = (yellow),\n",
    "    width = 2,\n",
    "    dash = 'dash'\n",
    ")\n",
    "line5 = dict( # V_pea3\n",
    "    color = (brown),\n",
    "    width = 2\n",
    ")\n",
    "line6 = dict( # radius at v_pea3\n",
    "    color = (brown),\n",
    "    width = 2,\n",
    "    dash = 'dash'\n",
    ")\n",
    "line7 = dict( # v_pea100\n",
    "    color = (red),\n",
    "    width = 2\n",
    ")\n",
    "line8 = dict( # radius at v_pea100\n",
    "    color = (red),\n",
    "    width = 2,\n",
    "    dash = 'dash'\n",
    ")\n",
    "\n",
    "# Radial Peclet Number\n",
    "Dm = 1.02 * np.float_power(10,-5)\n",
    "v_per = Dm/r_1\n",
    "trace3 = go.Scatter(\n",
    "    x = r_1,\n",
    "    y = v_per,\n",
    "    mode = 'lines',\n",
    "    name = 'Radial Peclet Number',\n",
    "    line = line3\n",
    ")\n",
    "rper = np.float_power(((Dm * 8 * mu)/(pd)),(1/3))\n",
    "r_per = r_1.copy()\n",
    "r_per1 = r_per.fill(rper)\n",
    "micron = rper * 1000000\n",
    "mylabel = f'r = {micron:.2f} micron'\n",
    "trace4 = go.Scatter(\n",
    "    x = r_per,\n",
    "    y = v_1,\n",
    "    mode = 'lines',\n",
    "    name = mylabel,\n",
    "    line = line4\n",
    ")\n",
    "\n",
    "# Axial Peclet Number (N=3)\n",
    "v_pea3 = Dm/(2*3*r_1)\n",
    "trace5 = go.Scatter(\n",
    "    x = r_1,\n",
    "    y = v_pea3,\n",
    "    mode = 'lines',\n",
    "    name = 'Axial Peclet (Short, N=3)',\n",
    "    line = line5\n",
    ")\n",
    "rpea3 = np.float_power(((Dm * 8 * mu)/(pd*2*3)),(1/3))\n",
    "r_pea3 = r_1.copy()\n",
    "r_pea31 = r_pea3.fill(rpea3)\n",
    "micron = rpea3 * 1000000\n",
    "mylabel = f'r = {micron:.2f} micron'\n",
    "trace6 = go.Scatter(\n",
    "    x = r_pea3,\n",
    "    y = v_1,\n",
    "    mode = 'lines',\n",
    "    name = mylabel,\n",
    "    line = line6\n",
    ")\n",
    "\n",
    "\n",
    "# Axial Peclet Number (N=100)\n",
    "v_pea100 = Dm/(2*100*r_1)\n",
    "trace7 = go.Scatter(\n",
    "    x = r_1,\n",
    "    y = v_pea100,\n",
    "    mode = 'lines',\n",
    "    name = 'Axial Peclet (Long, N=100)',\n",
    "    line = line7\n",
    ")\n",
    "rpea100 = np.float_power(((Dm * 8 * mu)/(pd*2*100)),(1/3))\n",
    "r_pea100 = r_1.copy()\n",
    "r_pea1001 = r_pea100.fill(rpea100)\n",
    "micron = rpea100 * 1000000\n",
    "mylabel = f'r = {micron:.2f} micron'\n",
    "trace8 = go.Scatter(\n",
    "    x = r_pea100,\n",
    "    y = v_1,\n",
    "    mode = 'lines',\n",
    "    name = mylabel,\n",
    "    line = line8\n",
    ")\n",
    "\n",
    "\n",
    "\n",
    "data2 = [trace0, trace1, trace2, trace3, trace4, trace5, trace6, trace7, trace8]\n",
    "fig = go.Figure(data=data2, layout=layout)\n",
    "py.iplot(fig)\n"
   ]
  },
  {
   "cell_type": "markdown",
   "metadata": {
    "ExecuteTime": {
     "end_time": "2019-04-06T11:58:14.812079Z",
     "start_time": "2019-04-06T11:58:14.804101Z"
    }
   },
   "source": [
    "> *Fig. 2.3: Velocity vs Tube Radius for 20 kPa/m Pressure Drop (Blue line), Overall system*\n",
    "> *velocity of 1m/s (Black line), Tube of System Length (500mm), r = 85.93 micron (Back dashes),*\n",
    "> *Velocity at Radial Peclet Number = 1 (Yellow line), r = 42.23 micron (Yellow dashes),*\n",
    "> *Velocity at Axial Peclet Number = 1, Ratio of Diameter to Length N=3 (Brown line),*\n",
    "> *r = 23.24 micron (Brown dashes),Velocity at Axial Peclet Number = 1, N=100 (Red line),*\n",
    "> *r = 7.22 micron.*"
   ]
  },
  {
   "cell_type": "markdown",
   "metadata": {},
   "source": [
    "For a system with a fixed pressure drop of $20 kPa/m$, Figure 2.3 shows that if the model of a micro-tube is taken, then there are four dimensions that 'naturally' fall out as potential minimum dimensions:\n",
    "\n",
    " * System Length Tube at Average System Velocity: $ r _{sys} = 85.93 \\mu m$\n",
    " * Micro Tube at Biological Design Limit: $ r _{Pe _r = 1} = 42.23 \\mu m$\n",
    " * Short Micro Tube, Smallest Useful Length: $ r _{Pe _a = 1} = 23.24 \\mu m$\n",
    " * Long Micro Tube, Smallest Useful Length: $ r _{Pe _a = 1} = 7.22 \\mu m$\n",
    " \n",
    "#### Ideal Aspect Ratio - Minimise Characteristic SorptionTime\n",
    "\n",
    "Another approach to minimum dimensions (cite Luo), is to minimise the average time required to sorb (adsorb or desorb) through the porous material, and diffuse down the tube length. This is particularly relelvant for $Pe _r = 1$ flow regime.\n",
    "\n",
    "Consider the porous microtube, shown below in figure 2.4, with length $(L _1)$, radius $(r _1)$ and velocity $(v _1)$, with a Macroporous Domain of radius $(r _p)$ surrounding the tube.\n",
    "\n",
    "Assume the gas is transported by surface diffusion, decribed by the diffusion coefficient $D _{Eff}$, and that it can be treated one dimensionally, as if all of the pores are radial. The diffusion coefficient of the gas along the tube length is described by $D _m > D_{Eff}$.\n",
    "\n",
    "The characteristic time $(t _p)$ of the radial diffusion from some point $x$ inside the porous domain to the tube wall is\n",
    "\n",
    "$$t_p = \\frac{x^2}{D _{Eff}}$$"
   ]
  },
  {
   "cell_type": "code",
   "execution_count": 39,
   "metadata": {
    "ExecuteTime": {
     "end_time": "2019-04-08T13:16:19.631933Z",
     "start_time": "2019-04-08T13:16:19.614979Z"
    },
    "cell_style": "split",
    "hide_input": true
   },
   "outputs": [
    {
     "data": {
      "image/png": "[encoded data removed]",
      "text/plain": [
       "<IPython.core.display.Image object>"
      ]
     },
     "execution_count": 39,
     "metadata": {
      "image/png": {
       "height": 400,
       "width": 100
      }
     },
     "output_type": "execute_result"
    }
   ],
   "source": [
    "from IPython.core.display import Image\n",
    "Image(filename=\"images\\microtube.png\", width =100, height =400)"
   ]
  },
  {
   "cell_type": "markdown",
   "metadata": {
    "cell_style": "split"
   },
   "source": [
    "> *Fig 2.4: The Smallest Useful Tube*\n",
    "> *for Convection, where the axial*\n",
    "> *Peclet Number = 1, with Velocity*\n",
    "> *v1, radius r1, length L1,*\n",
    "> *surrounded by a Macroporous*\n",
    ">  *domain with radius r_p*"
   ]
  },
  {
   "cell_type": "code",
   "execution_count": null,
   "metadata": {
    "hide_input": true
   },
   "outputs": [],
   "source": []
  },
  {
   "cell_type": "markdown",
   "metadata": {
    "cell_style": "center"
   },
   "source": [
    "The average diffusion time through the porous material $(t _{p _{ave}})$ is obtained by integrating $t _p$ over the radial distance (the thickness of the tube is neglected for simplicity sake), and then dividing by that distance.\n",
    "\n",
    "$$t _{p _{ave}} = \\frac {1}{r_p} \\cdot \\frac {1}{D _{Eff}} \\int_0^{r_p}x^2 dx = \\frac {r_p^2}{3 \\cdot D_{Eff}}$$\n",
    "\n",
    "The average diffusion time along the tube can be obtained by integrating $t_1$ over the longitudinal distance $L_1$, and then dividing by that distance\n",
    "\n",
    "$$t _{1 _{ave}} = \\frac {1}{L_1} \\cdot \\frac {1}{D _{m}} \\int_0^{r_1}y^2 dy = \\frac {L_1^2}{3 \\cdot D_{m}}$$\n",
    "\n",
    "The characteristic time $(\\tau)$ of a single desorption (or adsorption) step is the sum of the average diffusion time through the material and the average diffusion time down the tube.\n",
    "\n",
    "$$\\tau = t _{p _{ave}} + t _{1 _{ave}} = \\left( \\frac {r_p^2}{3 \\cdot D_{Eff}} \\right) + \\left( \\frac {L_1^2}{3 \\cdot D_{m}} \\right) $$\n",
    "\n",
    "For any selected porous material, the effective diffusivity is fixed and therefore the volume of the porous material is fixed $(V_1 = \\pi \\cdot r^2 \\cdot L_1)$. The aspect ratio of the irrigation volume $M = (L_1/r_p)$ that minimises the total characteristic time can be obtained by eliminating $r_o$ through the constant volume constraint, and then differentiating the total time with respect to $L_1$, (while checking the second derivative is positive).\n",
    "\n",
    "$$\\left( \\frac{\\partial \\tau}{\\partial L_1}\\right) _{V_1} = \\frac {V_1}{3 \\cdot D_{Eff} \\cdot L_1^2} + \\frac {2 L_1}{3 \\cdot d_m} = 0 $$\n",
    "\n",
    "The optimal aspect ratio M is then dependent on the ratio of the diffusion coefficient of the tube to the diffusion coefficient of the porous material.\n",
    "\n",
    "$$M = \\frac{L_1}{r_p} = \\sqrt{\\frac{D_m}{2 \\cdot D_{Eff}}}$$\n",
    "\n",
    "The effective diffusion coefficient is taken to be $D_{Eff} = 1.02 * 10^{-5} m^2/s$, and thus the optimal aspect ratio of tubes with $Pe_a = 1$ is\n",
    "\n",
    "$$M = \\sqrt{\\frac{D_m}{2 \\cdot D_{Eff}}} = 8.3 $$\n",
    "\n",
    "### Bulk Flow Through Circular Tubes\n",
    "\n",
    "#### Circular Tubes - Absolute Permeability\n",
    "\n",
    "The permeability of the porous system block, subjected to bulk flow driven by the pressure drop, can also be investigated using the Hagen Pouiseuille Law (Eqn. 4), by assuming that the pore space is constructed of N identical circular tubes at an angle $\\alpha$ to its length (Fig. 2.5).\n",
    "\n",
    "![title](images\\blocktube.png)"
   ]
  },
  {
   "cell_type": "markdown",
   "metadata": {
    "ExecuteTime": {
     "end_time": "2019-04-07T08:12:37.946220Z",
     "start_time": "2019-04-07T08:12:37.909319Z"
    }
   },
   "source": [
    "> *Figure 2.5: The porous system block of length $L_{sys}$, has $N$ circular tubes embedded at an angle $\\alpha$ to the horizontal. The tubes are either open pipes of radius $r_1$, or have an outer radius $r_1$ with a concentric core of radius $r_2$. *\n",
    "\n",
    "Since the tubes are at an angle, then the length of each inside the block is\n",
    "\n",
    "$$L_t = \\frac {L_{sys}}{\\sin \\alpha} = L_{sys} \\cdot \\tau $$\n",
    "\n",
    "where, $\\tau = \\sin^{-1}\\alpha$ is the tortuosity. Combining Eqns. (4) and (17), the total flux through $N$ tubes is\n",
    "\n",
    "$$q _{sys} = N\\cdot q_1 = -N\\frac{\\pi r_1^4}{8 \\mu}\\frac{\\Delta P}{L\\tau} = -N\\frac{\\pi r_1^4}{8 \\mu\\tau}\\frac{dP}{dx} = -N\\pi r_1^2\\tau \\frac{r_1^2}{8 \\mu\\tau^2}\\frac{dP}{dx}$$\n",
    "\n",
    "where $\\Delta P / L\\tau$ is the pressure gradient across the tube.\n",
    "\n",
    "The porosity of the block due to the tubes is\n",
    "\n",
    "$$\\phi _{sys} = \\frac{N\\pi r_1^2 L_t}{A L} = \\frac{N\\pi r_1^2 \\tau}{A}$$\n",
    "\n",
    "where A is the cross sectional area of the block. Combining eqns. (18) and (19) gives\n",
    "\n",
    "$$q _{sys} = -\\phi \\frac{r_1^2}{8\\tau^2} \\frac{A}{\\mu} \\frac{d P}{d x} $$\n",
    "\n",
    "Comparing Eqn. (20) with Darcy's Law Eqn. (2), gives the absolute permeability as\n",
    "\n",
    "$$ k_{absolute} = r_1^2 \\frac{\\phi}{8\\tau^2}$$\n",
    "\n",
    "The Specific Surface Area $(S)$ is the ratio of the pore surface area to the volume of the block, so for $N$ tubes\n",
    "\n",
    "$$ S = \\frac{N2\\pi r_1 L_{\\tau}}{A L} = \\frac{N2\\pi r_1 \\tau}{A} = \\frac{N2\\pi r_1^2 \\tau}{A} \\frac{2}{r_1} = \\frac {2\\phi}{r_1} $$\n",
    "\n",
    "and, therefore $r_1 = 2\\phi / s$ and\n",
    "\n",
    "$$ k_{absolute} = \\frac {1}{2} \\frac{\\phi}{S^2\\tau^2}$$\n",
    "\n",
    "Finally, combining Eqns. (2) and (18) gives\n",
    "\n",
    "$$ k_{absolute} = \\frac {N}{A \\tau} \\frac{\\pi r_1^4}{8}$$\n",
    "\n",
    "#### Concentric Tube - Absolute Permeability \n",
    "\n",
    "The equation for laminar viscous flow in a tube of radius $r_1$ is\n",
    "\n",
    "$$\\frac{\\partial^2 v_1}{\\partial r^2} + \\frac {1}{r_1} \\frac{\\partial u}{\\partial r_1} = \\frac {1}{\\mu} \\frac {dP}{dx} $$\n",
    "\n",
    "where $v_1$ is the velocity of the fluid in the axial (x) direction. A general solution of Eqn (25) is\n",
    "\n",
    "$$ u = \\tilde{A} + \\tilde{B} r_1^2 + \\tilde{C}ln r_1 $$\n",
    "\n",
    "where $\\tilde{A}, \\tilde{B}$, and $\\tilde{C}$ are constants. It follows from Eqn. (26) that\n",
    "\n",
    "$$ \\frac{\\partial u}{\\partial r_1} = s \\tilde{C} r_1 + \\frac{\\tilde{C}}{r_1},    \\frac {\\partial^2 u}{\\partial r_1^2} = 2 \\tilde{C} - \\frac{\\tilde{C}}{r_1^2} $$\n",
    "\n",
    "By substituting the expressions from Eqn (27) into Eqn (25) then,\n",
    "\n",
    "$$ 2\\tilde{B} - \\frac{\\tilde{C}}{r_1^2} + 2\\tilde{B} + \\frac{\\tilde{C}}{r_1^2} = \\frac {1}{\\mu} \\frac {dP}{dy} $$\n",
    "\n",
    "which means that\n",
    "\n",
    "$$ \\tilde{B} = \\frac {1}{4\\mu} \\frac{dP}{dx}$$\n",
    "\n",
    "To avoid singularity at $r_1 = 0$, assume that $\\tilde{C} = 0$, and there is a no-slip $(v_1 = 0)$ boundary condition at $r = r_1$ the outside radius and $r = r_2$ the inside radius, then\n",
    "\n",
    "$$v_1 = -\\frac{1}{4 \\mu} \\frac{dP}{dx} r_2^2 \\left \\lbrack  \\left( 1 - \\frac{r^2}{r_2^2} \\right) - \\left(1 - \\frac{r_1^2}{r_2^2} \\right ) \\right \\rbrack  \\frac{\\ln (r_2/r)}{\\ln (r_2/r_1)} $$\n",
    "\n",
    "\n",
    "A comparison of the velocity for the two configurations is given below."
   ]
  },
  {
   "cell_type": "code",
   "execution_count": null,
   "metadata": {
    "ExecuteTime": {
     "end_time": "2019-04-07T08:13:24.107102Z",
     "start_time": "2019-04-07T08:13:24.096133Z"
    }
   },
   "outputs": [],
   "source": []
  },
  {
   "cell_type": "markdown",
   "metadata": {},
   "source": [
    "### Bulk Flow Through Packed Shapes\n",
    "\n",
    "\n",
    "## Stokes Flow\n",
    "### Drag on Shapes\n",
    "\n",
    "### Flow through fibres\n",
    "\n",
    "## Summary\n",
    "\n",
    "# Introduction"
   ]
  },
  {
   "cell_type": "code",
   "execution_count": null,
   "metadata": {},
   "outputs": [],
   "source": []
  }
 ],
 "metadata": {
  "hide_input": false,
  "kernelspec": {
   "display_name": "Python 3",
   "language": "python",
   "name": "python3"
  },
  "language_info": {
   "codemirror_mode": {
    "name": "ipython",
    "version": 3
   },
   "file_extension": ".py",
   "mimetype": "text/x-python",
   "name": "python",
   "nbconvert_exporter": "python",
   "pygments_lexer": "ipython3",
   "version": "3.7.1"
  },
  "latex_envs": {
   "LaTeX_envs_menu_present": true,
   "autoclose": false,
   "autocomplete": true,
   "bibliofile": "biblio.bib",
   "cite_by": "apalike",
   "current_citInitial": 1,
   "eqLabelWithNumbers": true,
   "eqNumInitial": 1,
   "hotkeys": {
    "equation": "Ctrl-E",
    "itemize": "Ctrl-I"
   },
   "labels_anchors": false,
   "latex_user_defs": false,
   "report_style_numbering": false,
   "user_envs_cfg": false
  },
  "toc": {
   "base_numbering": 1,
   "nav_menu": {},
   "number_sections": true,
   "sideBar": true,
   "skip_h1_title": false,
   "title_cell": "Table of Contents",
   "title_sidebar": "Contents",
   "toc_cell": false,
   "toc_position": {
    "height": "calc(100% - 180px)",
    "left": "10px",
    "top": "150px",
    "width": "240.667px"
   },
   "toc_section_display": true,
   "toc_window_display": true
  }
 },
 "nbformat": 4,
 "nbformat_minor": 2
}
