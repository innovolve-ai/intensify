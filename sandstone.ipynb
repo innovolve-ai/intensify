{
 "cells": [
  {
   "cell_type": "markdown",
   "id": "d0ff96c6",
   "metadata": {},
   "source": [
    "# Modelling Sandstone with Tubes\n",
    "\n",
    "In order to demonstrate the effectiveness and simplicity of modelling real porous structures with tubes, its interesting to examine their use with porous sandstones. How can tubes model porous structure composed only of sedimented sand grains?\n",
    "\n",
    "Consider the Fontainbleau sandstone, which has been widely used to infer and test porosity/permeability relationships. The porosity of Fontainebleau sandstone is intergranular and covers a continuous range between 0.03 and 0.30 without noticeable grain-size modification (citation). A typical series of samples is shown below in Figure 2.7 below.\n",
    "\n",
    "![title](images\\Fontainbleau.png)\n",
    "> *Figure 2.7: Cross-section of four fontainbleau sandstone samples with decreasing porosity (posted on top of each image). the scale bar in each image is 0.5mm. It is not at all obvious which parameters (grain size, conduit size, or the number of conduits) change during porosity reduction*\n",
    "\n",
    "## Definition of Absolute Permeability\n",
    "A porous structure consists of voids (pore space) interspersed with some solid phase (particles, struts etc.), contained within some volume, which is termed the bed. Assuming the voids are connected, then the fluid flow rate is $q (m^3  s^-1)$ and the bed cross-sectional area is $A (m^2)$. Thus the *superficial velocity* (empty tube velocity) $U_0$ is the total flow rate divided by the cross-sectional area (see Figure 2.8 a. below).\n",
    "\n",
    "$$U_0 = \\frac{q}{A}$$\n",
    "\n",
    "The existence of solid phase in the bed will reduce the area available for fluid flow, and hence the *interstitial velocity*, between all of the solid phase shapes, is much higher then the superficial velocity. Further, it is the volume fraction of the voids $(\\epsilon)$ versus the volume fraction $(C)$ of the solid phase that is most important. \n",
    "\n",
    "$$\\epsilon = \\frac{V_{voids}}{V_{bed}},     C = \\frac{V_{solid}}{V_{bed}} , \\epsilon + C = 1$$\n",
    "\n",
    "The porosity is often an isotropic material (i.e. same structure in all directions), and then based on volumetric continuity\n",
    "\n",
    "$$U = \\frac{U_0}{\\epsilon}$$\n",
    "\n",
    "If there was no solid phase in the bed, then the interstitial and superficial velocities would be the same, if the bed was 100% filled with solid, the resistance to flow would be infinite. The resistance to fluid flow produced by the solid phase gives rise to a pressure drop in the fluid $(\\Delta P)$. Pressure is not a vector quantity, but a (decreasing) pressure gradient in the direction of flow is $(\\frac{\\Delta P}{L})$. However, it can also be considered as a pressure difference, which is a scalar quantity.\n",
    "\n",
    "This pressure difference drives flows through porous structures,  and Darcy's Law describes a proportional relationship between this driving force, the resisting forces for flow, the viscous force and resistivity of the structure, resulting in a volumetric flow through a cross-sectional area. Considering instead the inverse of the resistivity of the structure, known as the permeability $\\kappa (m^2)$, then Darcy's Law is\n",
    "\n",
    "$$\\frac{\\Delta P}{L} = \\frac{\\mu}{\\kappa} q \\frac{1}{A}$$\n",
    "\n",
    "This relationship has a direct analogy with Ohms law for electrical circuits, and these concepts are outlined in Figure 2.8 below.\n",
    "\n",
    "![title](images\\darcy.png)\n",
    "> *Figure 2.8: a.) Fluid flow through a porous structure considering the volume fractions present. b.) Analogy between fluid and electrical flows. the flow rate (current or fluid) is proportional to the driving potential, either voltage or the pressure gradient. The constant of proportionality is the resistance $(R)$ - which for a fluid is the viscosity divided by the bed permeability $(\\kappa)$. c.) Graphical representation of Darcy's law for a fixed bed length*\n",
    "\n",
    "\n",
    "## Permeability of a Block Pierced by Tubes\n",
    "Remembering the simplicity of the Hagen Pouiseuille Law (Eqn. 27) for flow through a circular tube, then a model of a porous structure based on tubes would be attractive, but can it reproduce the behaviour of sandstone samples?\n",
    "\n",
    "### Circular Tubes - Absolute Permeability\n",
    "The permeability of the porous system block subjected to bulk flow driven by the pressure drop can be investigated by assuming that the pore space is constructed of N identical circular tubes at an angle $\\alpha$ to its length,  (Fig. 2.9).\n",
    "\n",
    "![title](images\\blocktube.png)\n",
    "\n",
    "> *Figure 2.9: The porous system block of length $L_{sys}$, has $N$ circular tubes embedded at an angle $\\alpha$ to the horizontal. The tubes are either open pipes of radius $r_1$, or have an outer radius $r_1$ with a concentric core of radius $r_2$.*\n",
    "\n",
    "Since the tubes are at an angle, then the length of each inside the block is\n",
    "\n",
    "$$L_t = \\frac {L_{sys}}{\\sin \\alpha} = L_{sys} \\cdot \\tau $$\n",
    "\n",
    "where, $\\tau = \\sin^{-1}\\alpha$ is the tortuosity. Combining Eqns. (27) and (67), the total flux through $N$ tubes is\n",
    "\n",
    "$$q _{sys} = N\\cdot q_1 = -N\\frac{\\pi r_1^4}{8 \\mu}\\frac{\\Delta P}{L\\tau} = -N\\frac{\\pi r_1^4}{8 \\mu\\tau}\\frac{dP}{dx} = -N\\pi r_1^2\\tau \\frac{r_1^2}{8 \\mu\\tau^2}\\frac{dP}{dx}$$\n",
    "\n",
    "where $\\Delta P / L\\tau$ is the pressure gradient across the tube.\n",
    "\n",
    "The porosity of the block due to the tubes is\n",
    "\n",
    "$$\\phi _{sys} = \\frac{N\\pi r_1^2 L_t}{A L} = \\frac{N\\pi r_1^2 \\tau}{A}$$\n",
    "\n",
    "where A is the cross sectional area of the block. Combining eqns. (68) and (69) gives\n",
    "\n",
    "$$q _{sys} = -\\phi \\frac{r_1^2}{8\\tau^2} \\frac{A}{\\mu} \\frac{d P}{d x} $$\n",
    "\n",
    "Comparing Eqn. (70) with Darcy's Law Eqn. (66), gives the absolute permeability as\n",
    "\n",
    "$$ k_{absolute} = r_1^2 \\frac{\\phi}{8\\tau^2}$$\n",
    "\n",
    "The Specific Surface Area $(S)$ is the ratio of the pore surface area to the volume of the block, so for $N$ tubes\n",
    "\n",
    "$$ S = \\frac{N2\\pi r_1 L_{\\tau}}{A L} = \\frac{N2\\pi r_1 \\tau}{A} = \\frac{N2\\pi r_1^2 \\tau}{A} \\frac{2}{r_1} = \\frac {2\\phi}{r_1} $$\n",
    "\n",
    "and, therefore $r_1 = 2\\phi / s$ and\n",
    "\n",
    "$$ k_{absolute} = \\frac {1}{2} \\frac{\\phi}{S^2\\tau^2}$$\n",
    "\n",
    "Finally, combining Eqns. (66) and (68) gives\n",
    "\n",
    "$$ k_{absolute} = \\frac {N}{A \\tau} \\frac{\\pi r_1^4}{8}$$\n",
    "\n",
    "### Concentric Tube - Absolute Permeability \n",
    "\n",
    "The equation for laminar viscous flow in a tube of radius $r_1$ is\n",
    "\n",
    "$$\\frac{\\partial^2 v_1}{\\partial r^2} + \\frac {1}{r_1} \\frac{\\partial u}{\\partial r_1} = \\frac {1}{\\mu} \\frac {dP}{dx} $$\n",
    "\n",
    "where $v_1$ is the velocity of the fluid in the axial (x) direction. A general solution of Eqn (75) is\n",
    "\n",
    "$$ u = \\tilde{A} + \\tilde{B} r_1^2 + \\tilde{C}ln r_1 $$\n",
    "\n",
    "where $\\tilde{A}, \\tilde{B}$, and $\\tilde{C}$ are constants. It follows from Eqn. (76) that\n",
    "\n",
    "$$ \\frac{\\partial u}{\\partial r_1} = s \\tilde{C} r_1 + \\frac{\\tilde{C}}{r_1},    \\frac {\\partial^2 u}{\\partial r_1^2} = 2 \\tilde{C} - \\frac{\\tilde{C}}{r_1^2} $$\n",
    "\n",
    "By substituting the expressions from Eqn (77) into Eqn (75) then,\n",
    "\n",
    "$$ 2\\tilde{B} - \\frac{\\tilde{C}}{r_1^2} + 2\\tilde{B} + \\frac{\\tilde{C}}{r_1^2} = \\frac {1}{\\mu} \\frac {dP}{dy} $$\n",
    "\n",
    "which means that\n",
    "\n",
    "$$ \\tilde{B} = \\frac {1}{4\\mu} \\frac{dP}{dx}$$\n",
    "\n",
    "To avoid singularity at $r_1 = 0$, assume that $\\tilde{C} = 0$, and there is a no-slip $(v_1 = 0)$ boundary condition at $r = r_1$ the outside radius and $r = r_2$ the inside radius, then\n",
    "\n",
    "$$v_1 = -\\frac{1}{4 \\mu} \\frac{dP}{dx} r_2^2 \\left \\lbrack  \\left( 1 - \\frac{r^2}{r_2^2} \\right) - \\left(1 - \\frac{r_1^2}{r_2^2} \\right ) \\right \\rbrack  \\frac{\\ln (r_2/r)}{\\ln (r_2/r_1)} $$\n",
    "\n",
    "\n",
    "A comparison of the velocity for the two configurations is given below."
   ]
  },
  {
   "cell_type": "code",
   "execution_count": 1,
   "id": "f1297ad5",
   "metadata": {
    "hide_input": true
   },
   "outputs": [
    {
     "data": {
      "application/vnd.plotly.v1+json": {
       "config": {
        "plotlyServerURL": "https://plot.ly"
       },
       "data": [
        {
         "line": {
          "color": "rgb(68, 114, 196)",
          "width": 2
         },
         "mode": "lines",
         "name": "Tube Velocity",
         "type": "scatter",
         "x": [
          1,
          0.9975,
          0.99,
          0.9775,
          0.96,
          0.9375,
          0.91,
          0.8775000000000001,
          0.84,
          0.7975,
          0.75,
          0.6975,
          0.64,
          0.5774999999999999,
          0.51,
          0.4375,
          0.3599999999999999,
          0.2775000000000001,
          0.18999999999999995,
          0.09750000000000003,
          0
         ],
         "y": [
          0,
          0.05,
          0.1,
          0.15,
          0.2,
          0.25,
          0.3,
          0.35,
          0.4,
          0.45,
          0.5,
          0.55,
          0.6,
          0.65,
          0.7,
          0.75,
          0.8,
          0.85,
          0.9,
          0.95,
          1
         ]
        },
        {
         "line": {
          "color": "rgb(210,105,30)",
          "width": 2
         },
         "mode": "lines",
         "name": "Annulus Velocity",
         "type": "scatter",
         "x": [
          0,
          0.16183034646512462,
          0.2680196957073414,
          0.34146060858531735,
          0.39235004217246583,
          0.426127363906773,
          0.44603939141468274,
          0.4541803886375903,
          0.4519803042926587,
          0.44045906259930145,
          0.42036973787980725,
          0.39228422307642696,
          0.35664705961411425,
          0.3138106507577831,
          0.264059087122024,
          0.20762473645714988,
          0.14470008434493156,
          0.07544636923595935,
          0
         ],
         "y": [
          0.1,
          0.15,
          0.2,
          0.25,
          0.3,
          0.35,
          0.4,
          0.45,
          0.5,
          0.55,
          0.6,
          0.65,
          0.7,
          0.75,
          0.8,
          0.85,
          0.9,
          0.95,
          1
         ]
        }
       ],
       "layout": {
        "template": {
         "data": {
          "bar": [
           {
            "error_x": {
             "color": "#2a3f5f"
            },
            "error_y": {
             "color": "#2a3f5f"
            },
            "marker": {
             "line": {
              "color": "#E5ECF6",
              "width": 0.5
             },
             "pattern": {
              "fillmode": "overlay",
              "size": 10,
              "solidity": 0.2
             }
            },
            "type": "bar"
           }
          ],
          "barpolar": [
           {
            "marker": {
             "line": {
              "color": "#E5ECF6",
              "width": 0.5
             },
             "pattern": {
              "fillmode": "overlay",
              "size": 10,
              "solidity": 0.2
             }
            },
            "type": "barpolar"
           }
          ],
          "carpet": [
           {
            "aaxis": {
             "endlinecolor": "#2a3f5f",
             "gridcolor": "white",
             "linecolor": "white",
             "minorgridcolor": "white",
             "startlinecolor": "#2a3f5f"
            },
            "baxis": {
             "endlinecolor": "#2a3f5f",
             "gridcolor": "white",
             "linecolor": "white",
             "minorgridcolor": "white",
             "startlinecolor": "#2a3f5f"
            },
            "type": "carpet"
           }
          ],
          "choropleth": [
           {
            "colorbar": {
             "outlinewidth": 0,
             "ticks": ""
            },
            "type": "choropleth"
           }
          ],
          "contour": [
           {
            "colorbar": {
             "outlinewidth": 0,
             "ticks": ""
            },
            "colorscale": [
             [
              0,
              "#0d0887"
             ],
             [
              0.1111111111111111,
              "#46039f"
             ],
             [
              0.2222222222222222,
              "#7201a8"
             ],
             [
              0.3333333333333333,
              "#9c179e"
             ],
             [
              0.4444444444444444,
              "#bd3786"
             ],
             [
              0.5555555555555556,
              "#d8576b"
             ],
             [
              0.6666666666666666,
              "#ed7953"
             ],
             [
              0.7777777777777778,
              "#fb9f3a"
             ],
             [
              0.8888888888888888,
              "#fdca26"
             ],
             [
              1,
              "#f0f921"
             ]
            ],
            "type": "contour"
           }
          ],
          "contourcarpet": [
           {
            "colorbar": {
             "outlinewidth": 0,
             "ticks": ""
            },
            "type": "contourcarpet"
           }
          ],
          "heatmap": [
           {
            "colorbar": {
             "outlinewidth": 0,
             "ticks": ""
            },
            "colorscale": [
             [
              0,
              "#0d0887"
             ],
             [
              0.1111111111111111,
              "#46039f"
             ],
             [
              0.2222222222222222,
              "#7201a8"
             ],
             [
              0.3333333333333333,
              "#9c179e"
             ],
             [
              0.4444444444444444,
              "#bd3786"
             ],
             [
              0.5555555555555556,
              "#d8576b"
             ],
             [
              0.6666666666666666,
              "#ed7953"
             ],
             [
              0.7777777777777778,
              "#fb9f3a"
             ],
             [
              0.8888888888888888,
              "#fdca26"
             ],
             [
              1,
              "#f0f921"
             ]
            ],
            "type": "heatmap"
           }
          ],
          "heatmapgl": [
           {
            "colorbar": {
             "outlinewidth": 0,
             "ticks": ""
            },
            "colorscale": [
             [
              0,
              "#0d0887"
             ],
             [
              0.1111111111111111,
              "#46039f"
             ],
             [
              0.2222222222222222,
              "#7201a8"
             ],
             [
              0.3333333333333333,
              "#9c179e"
             ],
             [
              0.4444444444444444,
              "#bd3786"
             ],
             [
              0.5555555555555556,
              "#d8576b"
             ],
             [
              0.6666666666666666,
              "#ed7953"
             ],
             [
              0.7777777777777778,
              "#fb9f3a"
             ],
             [
              0.8888888888888888,
              "#fdca26"
             ],
             [
              1,
              "#f0f921"
             ]
            ],
            "type": "heatmapgl"
           }
          ],
          "histogram": [
           {
            "marker": {
             "pattern": {
              "fillmode": "overlay",
              "size": 10,
              "solidity": 0.2
             }
            },
            "type": "histogram"
           }
          ],
          "histogram2d": [
           {
            "colorbar": {
             "outlinewidth": 0,
             "ticks": ""
            },
            "colorscale": [
             [
              0,
              "#0d0887"
             ],
             [
              0.1111111111111111,
              "#46039f"
             ],
             [
              0.2222222222222222,
              "#7201a8"
             ],
             [
              0.3333333333333333,
              "#9c179e"
             ],
             [
              0.4444444444444444,
              "#bd3786"
             ],
             [
              0.5555555555555556,
              "#d8576b"
             ],
             [
              0.6666666666666666,
              "#ed7953"
             ],
             [
              0.7777777777777778,
              "#fb9f3a"
             ],
             [
              0.8888888888888888,
              "#fdca26"
             ],
             [
              1,
              "#f0f921"
             ]
            ],
            "type": "histogram2d"
           }
          ],
          "histogram2dcontour": [
           {
            "colorbar": {
             "outlinewidth": 0,
             "ticks": ""
            },
            "colorscale": [
             [
              0,
              "#0d0887"
             ],
             [
              0.1111111111111111,
              "#46039f"
             ],
             [
              0.2222222222222222,
              "#7201a8"
             ],
             [
              0.3333333333333333,
              "#9c179e"
             ],
             [
              0.4444444444444444,
              "#bd3786"
             ],
             [
              0.5555555555555556,
              "#d8576b"
             ],
             [
              0.6666666666666666,
              "#ed7953"
             ],
             [
              0.7777777777777778,
              "#fb9f3a"
             ],
             [
              0.8888888888888888,
              "#fdca26"
             ],
             [
              1,
              "#f0f921"
             ]
            ],
            "type": "histogram2dcontour"
           }
          ],
          "mesh3d": [
           {
            "colorbar": {
             "outlinewidth": 0,
             "ticks": ""
            },
            "type": "mesh3d"
           }
          ],
          "parcoords": [
           {
            "line": {
             "colorbar": {
              "outlinewidth": 0,
              "ticks": ""
             }
            },
            "type": "parcoords"
           }
          ],
          "pie": [
           {
            "automargin": true,
            "type": "pie"
           }
          ],
          "scatter": [
           {
            "fillpattern": {
             "fillmode": "overlay",
             "size": 10,
             "solidity": 0.2
            },
            "type": "scatter"
           }
          ],
          "scatter3d": [
           {
            "line": {
             "colorbar": {
              "outlinewidth": 0,
              "ticks": ""
             }
            },
            "marker": {
             "colorbar": {
              "outlinewidth": 0,
              "ticks": ""
             }
            },
            "type": "scatter3d"
           }
          ],
          "scattercarpet": [
           {
            "marker": {
             "colorbar": {
              "outlinewidth": 0,
              "ticks": ""
             }
            },
            "type": "scattercarpet"
           }
          ],
          "scattergeo": [
           {
            "marker": {
             "colorbar": {
              "outlinewidth": 0,
              "ticks": ""
             }
            },
            "type": "scattergeo"
           }
          ],
          "scattergl": [
           {
            "marker": {
             "colorbar": {
              "outlinewidth": 0,
              "ticks": ""
             }
            },
            "type": "scattergl"
           }
          ],
          "scattermapbox": [
           {
            "marker": {
             "colorbar": {
              "outlinewidth": 0,
              "ticks": ""
             }
            },
            "type": "scattermapbox"
           }
          ],
          "scatterpolar": [
           {
            "marker": {
             "colorbar": {
              "outlinewidth": 0,
              "ticks": ""
             }
            },
            "type": "scatterpolar"
           }
          ],
          "scatterpolargl": [
           {
            "marker": {
             "colorbar": {
              "outlinewidth": 0,
              "ticks": ""
             }
            },
            "type": "scatterpolargl"
           }
          ],
          "scatterternary": [
           {
            "marker": {
             "colorbar": {
              "outlinewidth": 0,
              "ticks": ""
             }
            },
            "type": "scatterternary"
           }
          ],
          "surface": [
           {
            "colorbar": {
             "outlinewidth": 0,
             "ticks": ""
            },
            "colorscale": [
             [
              0,
              "#0d0887"
             ],
             [
              0.1111111111111111,
              "#46039f"
             ],
             [
              0.2222222222222222,
              "#7201a8"
             ],
             [
              0.3333333333333333,
              "#9c179e"
             ],
             [
              0.4444444444444444,
              "#bd3786"
             ],
             [
              0.5555555555555556,
              "#d8576b"
             ],
             [
              0.6666666666666666,
              "#ed7953"
             ],
             [
              0.7777777777777778,
              "#fb9f3a"
             ],
             [
              0.8888888888888888,
              "#fdca26"
             ],
             [
              1,
              "#f0f921"
             ]
            ],
            "type": "surface"
           }
          ],
          "table": [
           {
            "cells": {
             "fill": {
              "color": "#EBF0F8"
             },
             "line": {
              "color": "white"
             }
            },
            "header": {
             "fill": {
              "color": "#C8D4E3"
             },
             "line": {
              "color": "white"
             }
            },
            "type": "table"
           }
          ]
         },
         "layout": {
          "annotationdefaults": {
           "arrowcolor": "#2a3f5f",
           "arrowhead": 0,
           "arrowwidth": 1
          },
          "autotypenumbers": "strict",
          "coloraxis": {
           "colorbar": {
            "outlinewidth": 0,
            "ticks": ""
           }
          },
          "colorscale": {
           "diverging": [
            [
             0,
             "#8e0152"
            ],
            [
             0.1,
             "#c51b7d"
            ],
            [
             0.2,
             "#de77ae"
            ],
            [
             0.3,
             "#f1b6da"
            ],
            [
             0.4,
             "#fde0ef"
            ],
            [
             0.5,
             "#f7f7f7"
            ],
            [
             0.6,
             "#e6f5d0"
            ],
            [
             0.7,
             "#b8e186"
            ],
            [
             0.8,
             "#7fbc41"
            ],
            [
             0.9,
             "#4d9221"
            ],
            [
             1,
             "#276419"
            ]
           ],
           "sequential": [
            [
             0,
             "#0d0887"
            ],
            [
             0.1111111111111111,
             "#46039f"
            ],
            [
             0.2222222222222222,
             "#7201a8"
            ],
            [
             0.3333333333333333,
             "#9c179e"
            ],
            [
             0.4444444444444444,
             "#bd3786"
            ],
            [
             0.5555555555555556,
             "#d8576b"
            ],
            [
             0.6666666666666666,
             "#ed7953"
            ],
            [
             0.7777777777777778,
             "#fb9f3a"
            ],
            [
             0.8888888888888888,
             "#fdca26"
            ],
            [
             1,
             "#f0f921"
            ]
           ],
           "sequentialminus": [
            [
             0,
             "#0d0887"
            ],
            [
             0.1111111111111111,
             "#46039f"
            ],
            [
             0.2222222222222222,
             "#7201a8"
            ],
            [
             0.3333333333333333,
             "#9c179e"
            ],
            [
             0.4444444444444444,
             "#bd3786"
            ],
            [
             0.5555555555555556,
             "#d8576b"
            ],
            [
             0.6666666666666666,
             "#ed7953"
            ],
            [
             0.7777777777777778,
             "#fb9f3a"
            ],
            [
             0.8888888888888888,
             "#fdca26"
            ],
            [
             1,
             "#f0f921"
            ]
           ]
          },
          "colorway": [
           "#636efa",
           "#EF553B",
           "#00cc96",
           "#ab63fa",
           "#FFA15A",
           "#19d3f3",
           "#FF6692",
           "#B6E880",
           "#FF97FF",
           "#FECB52"
          ],
          "font": {
           "color": "#2a3f5f"
          },
          "geo": {
           "bgcolor": "white",
           "lakecolor": "white",
           "landcolor": "#E5ECF6",
           "showlakes": true,
           "showland": true,
           "subunitcolor": "white"
          },
          "hoverlabel": {
           "align": "left"
          },
          "hovermode": "closest",
          "mapbox": {
           "style": "light"
          },
          "paper_bgcolor": "white",
          "plot_bgcolor": "#E5ECF6",
          "polar": {
           "angularaxis": {
            "gridcolor": "white",
            "linecolor": "white",
            "ticks": ""
           },
           "bgcolor": "#E5ECF6",
           "radialaxis": {
            "gridcolor": "white",
            "linecolor": "white",
            "ticks": ""
           }
          },
          "scene": {
           "xaxis": {
            "backgroundcolor": "#E5ECF6",
            "gridcolor": "white",
            "gridwidth": 2,
            "linecolor": "white",
            "showbackground": true,
            "ticks": "",
            "zerolinecolor": "white"
           },
           "yaxis": {
            "backgroundcolor": "#E5ECF6",
            "gridcolor": "white",
            "gridwidth": 2,
            "linecolor": "white",
            "showbackground": true,
            "ticks": "",
            "zerolinecolor": "white"
           },
           "zaxis": {
            "backgroundcolor": "#E5ECF6",
            "gridcolor": "white",
            "gridwidth": 2,
            "linecolor": "white",
            "showbackground": true,
            "ticks": "",
            "zerolinecolor": "white"
           }
          },
          "shapedefaults": {
           "line": {
            "color": "#2a3f5f"
           }
          },
          "ternary": {
           "aaxis": {
            "gridcolor": "white",
            "linecolor": "white",
            "ticks": ""
           },
           "baxis": {
            "gridcolor": "white",
            "linecolor": "white",
            "ticks": ""
           },
           "bgcolor": "#E5ECF6",
           "caxis": {
            "gridcolor": "white",
            "linecolor": "white",
            "ticks": ""
           }
          },
          "title": {
           "x": 0.05
          },
          "xaxis": {
           "automargin": true,
           "gridcolor": "white",
           "linecolor": "white",
           "ticks": "",
           "title": {
            "standoff": 15
           },
           "zerolinecolor": "white",
           "zerolinewidth": 2
          },
          "yaxis": {
           "automargin": true,
           "gridcolor": "white",
           "linecolor": "white",
           "ticks": "",
           "title": {
            "standoff": 15
           },
           "zerolinecolor": "white",
           "zerolinewidth": 2
          }
         }
        },
        "title": {
         "text": "Position Along Radius vs Normalised Velocity, for 20 kPa/m"
        },
        "xaxis": {
         "range": [
          0,
          1
         ],
         "showline": true,
         "title": {
          "text": "Tube Velocity (%)"
         }
        },
        "yaxis": {
         "range": [
          0,
          1
         ],
         "showline": true,
         "title": {
          "text": "Position Along Radius (%)"
         }
        }
       }
      }
     },
     "metadata": {},
     "output_type": "display_data"
    }
   ],
   "source": [
    "#import plotly.plotly as py\n",
    "import plotly.graph_objects as go\n",
    "import numpy as np\n",
    "\n",
    "Terms = 20\n",
    "i = np.arange(0, Terms + 1)\n",
    "j = np.arange(2, Terms + 1)\n",
    "r_i = i/20\n",
    "r_j = j/20\n",
    "a = 0.1\n",
    "b = 1\n",
    "u_i = 1 - np.float_power(r_i,2)\n",
    "part1 = (1 - (np.float_power(r_j,2))/(np.float_power(b,2)))\n",
    "part2 = (1 - (np.float_power(a,2))/(np.float_power(b,2)))\n",
    "part2b = b/r_j\n",
    "part3 = np.log(part2b)/np.log(b/a)\n",
    "\n",
    "v_j = np.float_power(b,2)*((1 - (np.float_power(r_j,2))/(np.float_power(b,2))) \\\n",
    "                           - ((1 - (np.float_power(a,2))/(np.float_power(b,2))) \\\n",
    "                              * part3))\n",
    "\n",
    "# Setup the Colours\n",
    "blue = 'rgb(68, 114, 196)'    # Velocity\n",
    "black = 'rgb(0,0,0)'          # V=1.0 m/s\n",
    "red = 'rgb(192, 0, 0)'        # r at V=1.0m/s\n",
    "yellow = 'rgb(255, 192, 0)'   # N=3, length to radius ratio\n",
    "brown = 'rgb(210,105,30)'     # N=100\n",
    "\n",
    "# setup lines\n",
    "line0 = dict( # Pressure Line\n",
    "    color = (blue),\n",
    "    width = 2\n",
    ")\n",
    "line1 = dict( # V=1m/s\n",
    "    color = (brown),\n",
    "    width = 2\n",
    ")\n",
    "\n",
    "\n",
    "\n",
    "# setup traces\n",
    "trace0 = go.Scatter(\n",
    "    y = r_i,\n",
    "    x = u_i,\n",
    "    mode = 'lines',\n",
    "    name = 'Tube Velocity',\n",
    "    line = line0\n",
    ")\n",
    "trace1 = go.Scatter(\n",
    "    y = r_j,\n",
    "    x = v_j,\n",
    "    mode = 'lines',\n",
    "    name = 'Annulus Velocity',\n",
    "    line = line1\n",
    ")\n",
    "\n",
    "data = [trace0, trace1]\n",
    "\n",
    "# setup the chart layout\n",
    "layout = go.Layout(\n",
    "    title = 'Position Along Radius vs Normalised Velocity, for 20 kPa/m',\n",
    "    yaxis=dict(\n",
    "        title='Position Along Radius (%)',\n",
    "        showline=True,\n",
    "        range=[0, 1]\n",
    "    ),\n",
    "    xaxis=dict(\n",
    "        title='Tube Velocity (%)',\n",
    "        showline=True,\n",
    "        range=[0, 1]\n",
    "    )\n",
    ")\n",
    "fig = go.Figure(data=data, layout=layout)\n",
    "#py.iplot(fig)\n",
    "fig.show()\n"
   ]
  },
  {
   "cell_type": "markdown",
   "id": "c0d30af2",
   "metadata": {},
   "source": [
    "> *Figure 2.10: The Velocity Profiles between the tube and the annulus are quite different. For the tube (blue), the maximum velocity is at the centre, when $r = 0$. For the annulus (brown), with a core of radius of $r_2 = 0.1 \\cdot r_1$, the maximum velocity is not in the centre of the fluid ring, but at approximately $r = 0.45$*\n",
    "\n",
    "The total flux through $N$ pipes with a kernel is\n",
    "\n",
    "$$Q = Nq = -N \\frac{\\pi}{8\\mu} \\frac{\\Delta P}{L \\tau} r_1^4 (1 - \\frac{r_2^2}{r_1^2})[1 + \\frac{r_2^2}{r_1^2} + (1 - \\frac{r_2^2}{r_1^2}) \\frac{1}{\\ln(r_2/r_1)}]$$\n",
    "\n",
    "The absolute permeability is\n",
    "\n",
    "$$k_{absolute} = \\frac{N}{A\\tau} \\frac{\\pi r_1^4}{8} (1 - \\frac{r_2^2}{r_1^2})[1 + \\frac{r_2^2}{r_1^2} + (1 - \\frac{r_2^2}{r_1^2})\\frac{1}{\\ln (r_2/r_1)}]$$\n",
    "\n",
    "The porosity of this block is then\n",
    "\n",
    "$$ \\phi = \\frac{ \\pi (r_1^2 - r_2^2)L_t}{AL_{sys}} = \\frac{N \\pi (r_1^2 - r_2^2) \\tau}{A}$$\n",
    "\n",
    "The Specific Surface Area $S$ is\n",
    "\n",
    "$$S = \\frac{N2 \\pi (r_1 + r_2)L_t}{A L_{sys}} = \\frac{N2\\pi (r_1 + r_2) \\tau}{A} = \\frac{N\\pi (r_1^2 - r_2^2) \\tau}{A} \\frac{1}{r_1 - r_2} = \\frac{2 \\phi}{r_1 - r_2}$$\n",
    "\n",
    "The absolute permeability as a function of the porosity is then\n",
    "\n",
    "$$k_{absolute} = \\frac{\\phi}{8 \\tau^2} r_1^2 [1 + \\frac{r_2^2}{r_1^2} + (1 - \\frac{r_2^2}{r_1^2})\\frac{1}{\\ln (r_2/r_1)}]$$\n",
    "\n",
    "### Permeability versus Porosity\n",
    "Using the above simple descriptions, three simple porosity variations can be envisaged:\n",
    " 1. The number of pipes $N$ varies,\n",
    " 2. The number $N$ remains constant, but the radius $r_1$ varies\n",
    " 3. The number $N$ remains constant, as does the radius $r_1$, but the kernel radius $r_2$ varies\n",
    "\n",
    "This variation scheme is shown in Figure 2.10 below.\n",
    "\n",
    "\n",
    "![title](images\\permvariations.png)\n",
    "\n",
    "> *Figure 2.10: Porosity reduction from that of the original block (left), by reducing the number of pipes (second from left), reducing the radius of pipes (third from the right) and increasing the radius of kernels (right). *\n",
    "\n",
    "Consider a porous block with sides of  $10^{-3}m$, and a square cross section area of  $10^{-6}m^2$. It is penetrated by $N = 50$ identical round tubes with radius $r_1 = 3.09 \\cdot 10^{-5}m$, with tortuosity $\\tau = 2.0$. The resulting porosity is $\\phi = N\\pi r_1^2 \\tau / A = 0.30$, and the permeability according to Eqn (74) is $k_{absolute} = 8.95 \\cdot 10^{-12} m^2$.\n",
    "\n",
    "The original block properties above are selected to match the porosity and permeability of classical Fontainbleau sandstone, and then the three variations in Fig. 2.10 above are applied. These three models are then compared to  experimental data measuring the permeability and porosity of Fontainbleau sandstone from two different studies (cite Reville-2014 and Gomez-2010) in the chart below.\n"
   ]
  },
  {
   "cell_type": "code",
   "execution_count": 2,
   "id": "2e4864d5",
   "metadata": {
    "hide_input": true
   },
   "outputs": [
    {
     "data": {
      "application/vnd.plotly.v1+json": {
       "config": {
        "plotlyServerURL": "https://plot.ly"
       },
       "data": [
        {
         "line": {
          "color": "rgb(192, 0, 0)",
          "width": 2
         },
         "mode": "lines",
         "name": "Model 1. Reducing Number of Tubes",
         "type": "scatter",
         "x": [
          0.03,
          0.04,
          0.05,
          0.06,
          0.07,
          0.08,
          0.09,
          0.1,
          0.11,
          0.12,
          0.13,
          0.14,
          0.15,
          0.16,
          0.17,
          0.18,
          0.19,
          0.2,
          0.21,
          0.22,
          0.23,
          0.24,
          0.25,
          0.26,
          0.27,
          0.28,
          0.29,
          0.3
         ],
         "y": [
          8.951343749999998e-13,
          1.1935124999999999e-12,
          1.4918906249999998e-12,
          1.7902687499999997e-12,
          2.088646875e-12,
          2.3870249999999997e-12,
          2.685403125e-12,
          2.9837812499999995e-12,
          3.282159374999999e-12,
          3.5805374999999994e-12,
          3.878915625e-12,
          4.17729375e-12,
          4.4756718749999995e-12,
          4.7740499999999994e-12,
          5.072428125e-12,
          5.37080625e-12,
          5.669184374999998e-12,
          5.967562499999999e-12,
          6.265940624999998e-12,
          6.564318749999998e-12,
          6.862696874999999e-12,
          7.161074999999999e-12,
          7.459453125e-12,
          7.75783125e-12,
          8.056209375e-12,
          8.3545875e-12,
          8.652965624999998e-12,
          8.951343749999999e-12
         ]
        },
        {
         "line": {
          "color": "rgb(255, 192, 0)",
          "width": 2
         },
         "mode": "lines",
         "name": "Model 2. Reducing Tube Diameter",
         "type": "scatter",
         "x": [
          0.03,
          0.04,
          0.05,
          0.06,
          0.07,
          0.08,
          0.09,
          0.1,
          0.11,
          0.12,
          0.13,
          0.14,
          0.15,
          0.16,
          0.17,
          0.18,
          0.19,
          0.2,
          0.21,
          0.22,
          0.23,
          0.24,
          0.25,
          0.26,
          0.27,
          0.28,
          0.29,
          0.3
         ],
         "y": [
          8.952473110749649e-14,
          1.5915507752443824e-13,
          2.486798086319348e-13,
          3.5809892442998607e-13,
          4.874124249185922e-13,
          6.366203100977529e-13,
          8.05722579967469e-13,
          9.94719234527739e-13,
          1.2036102737785643e-12,
          1.4323956977199439e-12,
          1.6810755063518789e-12,
          1.9496496996743692e-12,
          2.2381182776874124e-12,
          2.5464812403910118e-12,
          2.8747385877851664e-12,
          3.2228903198698755e-12,
          3.5909364366451375e-12,
          3.9788769381109564e-12,
          4.3867118242673295e-12,
          4.8144410951142566e-12,
          5.262064750651742e-12,
          5.729582790879777e-12,
          6.216995215798368e-12,
          6.724302025407518e-12,
          7.2515032197072204e-12,
          7.798598798697475e-12,
          8.365588762378283e-12,
          8.952473110749651e-12
         ]
        },
        {
         "line": {
          "color": "rgb(210,105,30)",
          "width": 2
         },
         "mode": "lines",
         "name": "Model 3. Increasing Kernel Diameter",
         "type": "scatter",
         "x": [
          0.03,
          0.04,
          0.05,
          0.06,
          0.07,
          0.08,
          0.09,
          0.1,
          0.11,
          0.12,
          0.13,
          0.14,
          0.15,
          0.16,
          0.17,
          0.18,
          0.19,
          0.2,
          0.21,
          0.22,
          0.23,
          0.24,
          0.25,
          0.26,
          0.27,
          0.28,
          0.29,
          0.3
         ],
         "y": [
          1.5719802483635166e-15,
          3.795090438649181e-15,
          7.553475889959191e-15,
          1.3308749574560779e-14,
          2.1562257957648856e-14,
          3.286069187656266e-14,
          4.780280974160235e-14,
          6.704756148847227e-14,
          9.132399566774372e-14,
          1.214434634824488e-13,
          1.5831482046062287e-13,
          2.0296359701070514e-13,
          2.5655650874177095e-13,
          3.20433281012316e-13,
          3.9614869684528394e-13,
          4.855292661635466e-13,
          5.907513632766396e-13,
          7.144518596664481e-13,
          8.598897277742069e-13,
          1.0311910553434985e-12,
          1.2337377299737753e-12,
          1.474819765671619e-12,
          1.7648119912677689e-12,
          2.1195106642702215e-12,
          2.5654461818158486e-12,
          3.154766383987945e-12,
          4.026436142184056e-12,
          null
         ]
        },
        {
         "marker": {
          "color": "rgb(68, 114, 196)",
          "symbol": "cross"
         },
         "mode": "markers",
         "name": "Fontainbleau Sandstone (Gomez 2010)",
         "type": "scatter",
         "x": [
          0.066,
          0.054,
          0.057,
          0.075,
          0.069,
          0.05,
          0.106,
          0.102,
          0.097,
          0.068,
          0.202,
          0.067,
          0.222,
          0.073,
          0.084,
          0.078,
          0.085,
          0.085,
          0.168,
          0.164,
          0.159,
          0.155,
          0.151,
          0.207,
          0.212,
          0.174,
          0.17,
          0.158,
          0.1,
          0.159,
          0.159,
          0.17,
          0.045,
          0.07,
          0.092,
          0.109,
          0.069,
          0.069,
          0.18,
          0.188,
          0.189,
          0.194,
          0.052,
          0.047,
          0.059,
          0.108,
          0.103,
          0.099,
          0.056,
          0.052,
          0.08,
          0.111,
          0.113,
          0.062,
          0.094,
          0.202,
          0.045,
          0.055,
          0.16,
          0.051,
          0.114,
          0.077,
          0.171,
          0.115,
          0.192,
          0.054,
          0.126,
          0.042,
          0.071
         ],
         "y": [
          1.82e-14,
          3.35e-15,
          6.3e-15,
          2.11e-14,
          4.97e-14,
          2.49e-15,
          1.54e-13,
          1.55e-13,
          1.33e-13,
          1.02e-14,
          3.4e-12,
          1.21e-14,
          3.56e-12,
          1.09e-14,
          4.23e-14,
          2.29e-14,
          5.81e-14,
          1.72e-13,
          1.64e-12,
          1.69e-12,
          1.77e-12,
          1.54e-12,
          1.22e-12,
          3.12e-12,
          4.52e-12,
          1.35e-12,
          9.81e-13,
          7.02e-13,
          1.9e-13,
          1.28e-12,
          1.19e-12,
          1.09e-12,
          1.9e-15,
          2.42e-14,
          1.82e-13,
          1.49e-13,
          1.57e-14,
          2.36e-14,
          1.74e-12,
          2.28e-12,
          2.18e-12,
          3.39e-12,
          1.2e-15,
          1.3e-15,
          5.3e-15,
          2.82e-13,
          3.99e-13,
          2e-13,
          6.1e-15,
          4.7e-15,
          4.1e-14,
          3.24e-13,
          3.59e-13,
          1.02e-14,
          9.92e-14,
          4.08e-12,
          5.24e-16,
          4.1e-15,
          1.43e-12,
          2.17e-15,
          3.16e-13,
          4.44e-14,
          1.27e-12,
          3.5e-13,
          2.88e-12,
          1.91e-15,
          5.64e-13,
          3.91e-16,
          1.72e-14
         ]
        },
        {
         "marker": {
          "color": "rgb(0,0,0)",
          "symbol": "circle-open"
         },
         "mode": "markers",
         "name": "Fontainbleau Sandstone (Revil 2014)",
         "type": "scatter",
         "x": [
          0.07,
          0.07,
          0.07,
          0.08,
          0.1,
          0.08,
          0.11,
          0.11,
          0.09,
          0.11,
          0.1,
          0.08,
          0.15,
          0.17,
          0.16,
          0.18,
          0.18,
          0.18,
          0.25,
          0.24,
          0.24,
          0.06,
          0.1
         ],
         "y": [
          9.869e-15,
          5.922e-15,
          1.184e-14,
          6.908e-15,
          4.935e-14,
          2.566e-14,
          1.017e-13,
          1.056e-13,
          7.698e-14,
          1.194e-13,
          1.549e-13,
          2.862e-14,
          5.843e-13,
          6.948e-13,
          6.287e-13,
          9.001e-13,
          9.524e-13,
          8.843e-13,
          3.583e-12,
          2.856e-12,
          3.039e-12,
          9.869e-16,
          3.158e-14
         ]
        }
       ],
       "layout": {
        "height": 600,
        "template": {
         "data": {
          "bar": [
           {
            "error_x": {
             "color": "#2a3f5f"
            },
            "error_y": {
             "color": "#2a3f5f"
            },
            "marker": {
             "line": {
              "color": "#E5ECF6",
              "width": 0.5
             },
             "pattern": {
              "fillmode": "overlay",
              "size": 10,
              "solidity": 0.2
             }
            },
            "type": "bar"
           }
          ],
          "barpolar": [
           {
            "marker": {
             "line": {
              "color": "#E5ECF6",
              "width": 0.5
             },
             "pattern": {
              "fillmode": "overlay",
              "size": 10,
              "solidity": 0.2
             }
            },
            "type": "barpolar"
           }
          ],
          "carpet": [
           {
            "aaxis": {
             "endlinecolor": "#2a3f5f",
             "gridcolor": "white",
             "linecolor": "white",
             "minorgridcolor": "white",
             "startlinecolor": "#2a3f5f"
            },
            "baxis": {
             "endlinecolor": "#2a3f5f",
             "gridcolor": "white",
             "linecolor": "white",
             "minorgridcolor": "white",
             "startlinecolor": "#2a3f5f"
            },
            "type": "carpet"
           }
          ],
          "choropleth": [
           {
            "colorbar": {
             "outlinewidth": 0,
             "ticks": ""
            },
            "type": "choropleth"
           }
          ],
          "contour": [
           {
            "colorbar": {
             "outlinewidth": 0,
             "ticks": ""
            },
            "colorscale": [
             [
              0,
              "#0d0887"
             ],
             [
              0.1111111111111111,
              "#46039f"
             ],
             [
              0.2222222222222222,
              "#7201a8"
             ],
             [
              0.3333333333333333,
              "#9c179e"
             ],
             [
              0.4444444444444444,
              "#bd3786"
             ],
             [
              0.5555555555555556,
              "#d8576b"
             ],
             [
              0.6666666666666666,
              "#ed7953"
             ],
             [
              0.7777777777777778,
              "#fb9f3a"
             ],
             [
              0.8888888888888888,
              "#fdca26"
             ],
             [
              1,
              "#f0f921"
             ]
            ],
            "type": "contour"
           }
          ],
          "contourcarpet": [
           {
            "colorbar": {
             "outlinewidth": 0,
             "ticks": ""
            },
            "type": "contourcarpet"
           }
          ],
          "heatmap": [
           {
            "colorbar": {
             "outlinewidth": 0,
             "ticks": ""
            },
            "colorscale": [
             [
              0,
              "#0d0887"
             ],
             [
              0.1111111111111111,
              "#46039f"
             ],
             [
              0.2222222222222222,
              "#7201a8"
             ],
             [
              0.3333333333333333,
              "#9c179e"
             ],
             [
              0.4444444444444444,
              "#bd3786"
             ],
             [
              0.5555555555555556,
              "#d8576b"
             ],
             [
              0.6666666666666666,
              "#ed7953"
             ],
             [
              0.7777777777777778,
              "#fb9f3a"
             ],
             [
              0.8888888888888888,
              "#fdca26"
             ],
             [
              1,
              "#f0f921"
             ]
            ],
            "type": "heatmap"
           }
          ],
          "heatmapgl": [
           {
            "colorbar": {
             "outlinewidth": 0,
             "ticks": ""
            },
            "colorscale": [
             [
              0,
              "#0d0887"
             ],
             [
              0.1111111111111111,
              "#46039f"
             ],
             [
              0.2222222222222222,
              "#7201a8"
             ],
             [
              0.3333333333333333,
              "#9c179e"
             ],
             [
              0.4444444444444444,
              "#bd3786"
             ],
             [
              0.5555555555555556,
              "#d8576b"
             ],
             [
              0.6666666666666666,
              "#ed7953"
             ],
             [
              0.7777777777777778,
              "#fb9f3a"
             ],
             [
              0.8888888888888888,
              "#fdca26"
             ],
             [
              1,
              "#f0f921"
             ]
            ],
            "type": "heatmapgl"
           }
          ],
          "histogram": [
           {
            "marker": {
             "pattern": {
              "fillmode": "overlay",
              "size": 10,
              "solidity": 0.2
             }
            },
            "type": "histogram"
           }
          ],
          "histogram2d": [
           {
            "colorbar": {
             "outlinewidth": 0,
             "ticks": ""
            },
            "colorscale": [
             [
              0,
              "#0d0887"
             ],
             [
              0.1111111111111111,
              "#46039f"
             ],
             [
              0.2222222222222222,
              "#7201a8"
             ],
             [
              0.3333333333333333,
              "#9c179e"
             ],
             [
              0.4444444444444444,
              "#bd3786"
             ],
             [
              0.5555555555555556,
              "#d8576b"
             ],
             [
              0.6666666666666666,
              "#ed7953"
             ],
             [
              0.7777777777777778,
              "#fb9f3a"
             ],
             [
              0.8888888888888888,
              "#fdca26"
             ],
             [
              1,
              "#f0f921"
             ]
            ],
            "type": "histogram2d"
           }
          ],
          "histogram2dcontour": [
           {
            "colorbar": {
             "outlinewidth": 0,
             "ticks": ""
            },
            "colorscale": [
             [
              0,
              "#0d0887"
             ],
             [
              0.1111111111111111,
              "#46039f"
             ],
             [
              0.2222222222222222,
              "#7201a8"
             ],
             [
              0.3333333333333333,
              "#9c179e"
             ],
             [
              0.4444444444444444,
              "#bd3786"
             ],
             [
              0.5555555555555556,
              "#d8576b"
             ],
             [
              0.6666666666666666,
              "#ed7953"
             ],
             [
              0.7777777777777778,
              "#fb9f3a"
             ],
             [
              0.8888888888888888,
              "#fdca26"
             ],
             [
              1,
              "#f0f921"
             ]
            ],
            "type": "histogram2dcontour"
           }
          ],
          "mesh3d": [
           {
            "colorbar": {
             "outlinewidth": 0,
             "ticks": ""
            },
            "type": "mesh3d"
           }
          ],
          "parcoords": [
           {
            "line": {
             "colorbar": {
              "outlinewidth": 0,
              "ticks": ""
             }
            },
            "type": "parcoords"
           }
          ],
          "pie": [
           {
            "automargin": true,
            "type": "pie"
           }
          ],
          "scatter": [
           {
            "fillpattern": {
             "fillmode": "overlay",
             "size": 10,
             "solidity": 0.2
            },
            "type": "scatter"
           }
          ],
          "scatter3d": [
           {
            "line": {
             "colorbar": {
              "outlinewidth": 0,
              "ticks": ""
             }
            },
            "marker": {
             "colorbar": {
              "outlinewidth": 0,
              "ticks": ""
             }
            },
            "type": "scatter3d"
           }
          ],
          "scattercarpet": [
           {
            "marker": {
             "colorbar": {
              "outlinewidth": 0,
              "ticks": ""
             }
            },
            "type": "scattercarpet"
           }
          ],
          "scattergeo": [
           {
            "marker": {
             "colorbar": {
              "outlinewidth": 0,
              "ticks": ""
             }
            },
            "type": "scattergeo"
           }
          ],
          "scattergl": [
           {
            "marker": {
             "colorbar": {
              "outlinewidth": 0,
              "ticks": ""
             }
            },
            "type": "scattergl"
           }
          ],
          "scattermapbox": [
           {
            "marker": {
             "colorbar": {
              "outlinewidth": 0,
              "ticks": ""
             }
            },
            "type": "scattermapbox"
           }
          ],
          "scatterpolar": [
           {
            "marker": {
             "colorbar": {
              "outlinewidth": 0,
              "ticks": ""
             }
            },
            "type": "scatterpolar"
           }
          ],
          "scatterpolargl": [
           {
            "marker": {
             "colorbar": {
              "outlinewidth": 0,
              "ticks": ""
             }
            },
            "type": "scatterpolargl"
           }
          ],
          "scatterternary": [
           {
            "marker": {
             "colorbar": {
              "outlinewidth": 0,
              "ticks": ""
             }
            },
            "type": "scatterternary"
           }
          ],
          "surface": [
           {
            "colorbar": {
             "outlinewidth": 0,
             "ticks": ""
            },
            "colorscale": [
             [
              0,
              "#0d0887"
             ],
             [
              0.1111111111111111,
              "#46039f"
             ],
             [
              0.2222222222222222,
              "#7201a8"
             ],
             [
              0.3333333333333333,
              "#9c179e"
             ],
             [
              0.4444444444444444,
              "#bd3786"
             ],
             [
              0.5555555555555556,
              "#d8576b"
             ],
             [
              0.6666666666666666,
              "#ed7953"
             ],
             [
              0.7777777777777778,
              "#fb9f3a"
             ],
             [
              0.8888888888888888,
              "#fdca26"
             ],
             [
              1,
              "#f0f921"
             ]
            ],
            "type": "surface"
           }
          ],
          "table": [
           {
            "cells": {
             "fill": {
              "color": "#EBF0F8"
             },
             "line": {
              "color": "white"
             }
            },
            "header": {
             "fill": {
              "color": "#C8D4E3"
             },
             "line": {
              "color": "white"
             }
            },
            "type": "table"
           }
          ]
         },
         "layout": {
          "annotationdefaults": {
           "arrowcolor": "#2a3f5f",
           "arrowhead": 0,
           "arrowwidth": 1
          },
          "autotypenumbers": "strict",
          "coloraxis": {
           "colorbar": {
            "outlinewidth": 0,
            "ticks": ""
           }
          },
          "colorscale": {
           "diverging": [
            [
             0,
             "#8e0152"
            ],
            [
             0.1,
             "#c51b7d"
            ],
            [
             0.2,
             "#de77ae"
            ],
            [
             0.3,
             "#f1b6da"
            ],
            [
             0.4,
             "#fde0ef"
            ],
            [
             0.5,
             "#f7f7f7"
            ],
            [
             0.6,
             "#e6f5d0"
            ],
            [
             0.7,
             "#b8e186"
            ],
            [
             0.8,
             "#7fbc41"
            ],
            [
             0.9,
             "#4d9221"
            ],
            [
             1,
             "#276419"
            ]
           ],
           "sequential": [
            [
             0,
             "#0d0887"
            ],
            [
             0.1111111111111111,
             "#46039f"
            ],
            [
             0.2222222222222222,
             "#7201a8"
            ],
            [
             0.3333333333333333,
             "#9c179e"
            ],
            [
             0.4444444444444444,
             "#bd3786"
            ],
            [
             0.5555555555555556,
             "#d8576b"
            ],
            [
             0.6666666666666666,
             "#ed7953"
            ],
            [
             0.7777777777777778,
             "#fb9f3a"
            ],
            [
             0.8888888888888888,
             "#fdca26"
            ],
            [
             1,
             "#f0f921"
            ]
           ],
           "sequentialminus": [
            [
             0,
             "#0d0887"
            ],
            [
             0.1111111111111111,
             "#46039f"
            ],
            [
             0.2222222222222222,
             "#7201a8"
            ],
            [
             0.3333333333333333,
             "#9c179e"
            ],
            [
             0.4444444444444444,
             "#bd3786"
            ],
            [
             0.5555555555555556,
             "#d8576b"
            ],
            [
             0.6666666666666666,
             "#ed7953"
            ],
            [
             0.7777777777777778,
             "#fb9f3a"
            ],
            [
             0.8888888888888888,
             "#fdca26"
            ],
            [
             1,
             "#f0f921"
            ]
           ]
          },
          "colorway": [
           "#636efa",
           "#EF553B",
           "#00cc96",
           "#ab63fa",
           "#FFA15A",
           "#19d3f3",
           "#FF6692",
           "#B6E880",
           "#FF97FF",
           "#FECB52"
          ],
          "font": {
           "color": "#2a3f5f"
          },
          "geo": {
           "bgcolor": "white",
           "lakecolor": "white",
           "landcolor": "#E5ECF6",
           "showlakes": true,
           "showland": true,
           "subunitcolor": "white"
          },
          "hoverlabel": {
           "align": "left"
          },
          "hovermode": "closest",
          "mapbox": {
           "style": "light"
          },
          "paper_bgcolor": "white",
          "plot_bgcolor": "#E5ECF6",
          "polar": {
           "angularaxis": {
            "gridcolor": "white",
            "linecolor": "white",
            "ticks": ""
           },
           "bgcolor": "#E5ECF6",
           "radialaxis": {
            "gridcolor": "white",
            "linecolor": "white",
            "ticks": ""
           }
          },
          "scene": {
           "xaxis": {
            "backgroundcolor": "#E5ECF6",
            "gridcolor": "white",
            "gridwidth": 2,
            "linecolor": "white",
            "showbackground": true,
            "ticks": "",
            "zerolinecolor": "white"
           },
           "yaxis": {
            "backgroundcolor": "#E5ECF6",
            "gridcolor": "white",
            "gridwidth": 2,
            "linecolor": "white",
            "showbackground": true,
            "ticks": "",
            "zerolinecolor": "white"
           },
           "zaxis": {
            "backgroundcolor": "#E5ECF6",
            "gridcolor": "white",
            "gridwidth": 2,
            "linecolor": "white",
            "showbackground": true,
            "ticks": "",
            "zerolinecolor": "white"
           }
          },
          "shapedefaults": {
           "line": {
            "color": "#2a3f5f"
           }
          },
          "ternary": {
           "aaxis": {
            "gridcolor": "white",
            "linecolor": "white",
            "ticks": ""
           },
           "baxis": {
            "gridcolor": "white",
            "linecolor": "white",
            "ticks": ""
           },
           "bgcolor": "#E5ECF6",
           "caxis": {
            "gridcolor": "white",
            "linecolor": "white",
            "ticks": ""
           }
          },
          "title": {
           "x": 0.05
          },
          "xaxis": {
           "automargin": true,
           "gridcolor": "white",
           "linecolor": "white",
           "ticks": "",
           "title": {
            "standoff": 15
           },
           "zerolinecolor": "white",
           "zerolinewidth": 2
          },
          "yaxis": {
           "automargin": true,
           "gridcolor": "white",
           "linecolor": "white",
           "ticks": "",
           "title": {
            "standoff": 15
           },
           "zerolinecolor": "white",
           "zerolinewidth": 2
          }
         }
        },
        "title": {
         "text": "Permeability vs Porosity, Experimental Data vs 3 Tube Models"
        },
        "xaxis": {
         "autorange": true,
         "showline": true,
         "title": {
          "text": "Porosity (%)"
         }
        },
        "yaxis": {
         "autorange": true,
         "showline": true,
         "title": {
          "text": "Permeability (m^2)"
         },
         "type": "log"
        }
       }
      }
     },
     "metadata": {},
     "output_type": "display_data"
    }
   ],
   "source": [
    "import os\n",
    "import pandas as pd\n",
    "import warnings\n",
    "warnings.filterwarnings('ignore')\n",
    "\n",
    "# setup paths and filename\n",
    "dirpath = os.getcwd()\n",
    "datapath = dirpath + '\\\\data\\\\'\n",
    "revilname = 'data\\\\revildata.csv'\n",
    "gomezname = 'data\\\\gomez.csv'\n",
    "\n",
    "T=2.0\n",
    "A=np.power(10.0,-6)\n",
    "N=50\n",
    "b=3.09*np.power(10.0,-5)\n",
    "pi=3.14159\n",
    "Por0=N*pi*b*b*T/A\n",
    "\n",
    "# setup porosity as a range from 0.03 to 0.3\n",
    "i=np.arange(3,31)\n",
    "por_i=i/100\n",
    "# setup case A\n",
    "N_i = (por_i * A)/(b*b*pi*T)\n",
    "permA = ((pi*b*b*b*b)/(8*T*A))*N_i\n",
    "# setup case B\n",
    "innerB = (por_i * A)/(N*pi*T)\n",
    "r_B = np.sqrt(innerB)\n",
    "permB = ((N*pi)/(8*A*T))*np.power(r_B,4)\n",
    "# setup case C\n",
    "innerC = (1-((por_i * A)/(N*pi*T*b*b)))\n",
    "r_C = np.sqrt(innerC)\n",
    "r_C2= np.power(r_C,2)\n",
    "p1=1-r_C2\n",
    "p2=p1*(1+ r_C2 + p1/np.log(r_C))\n",
    "permC = ((N*pi)/(8*A*T))*np.power(b,4)*p2\n",
    "\n",
    "#read in experimental data\n",
    "df_revil = pd.read_csv(revilname)\n",
    "df_revil_por = df_revil['porosity']\n",
    "df_revil_perm = df_revil['perm']\n",
    "df_gomez = pd.read_csv(gomezname)\n",
    "df_gomez_por = df_gomez['porosity']\n",
    "df_gomez_perm = df_gomez['perm']\n",
    "# convert to numpy\n",
    "np_revil_por = df_revil_por.values\n",
    "np_revil_perm = df_revil_perm.values\n",
    "np_gomez_por = df_gomez_por.values\n",
    "np_gomez_perm = df_gomez_perm.values\n",
    "\n",
    "# Setup the Colours\n",
    "blue = 'rgb(68, 114, 196)'    # Velocity\n",
    "black = 'rgb(0,0,0)'          # V=1.0 m/s\n",
    "red = 'rgb(192, 0, 0)'        # r at V=1.0m/s\n",
    "yellow = 'rgb(255, 192, 0)'   # N=3, length to radius ratio\n",
    "brown = 'rgb(210,105,30)'     # N=100\n",
    "\n",
    "# setup lines\n",
    "line0 = dict( # Pressure Line\n",
    "    color = (red),\n",
    "    width = 2\n",
    ")\n",
    "line1 = dict( # V=1m/s\n",
    "    color = (yellow),\n",
    "    width = 2\n",
    ")\n",
    "line2 = dict(\n",
    "    color = (brown),\n",
    "    width = 2\n",
    ")\n",
    "\n",
    "# setup markers\n",
    "marker3 = dict(\n",
    "    color = (blue),\n",
    "    symbol = 'cross'\n",
    ")\n",
    "marker4 = dict(\n",
    "    color = (black),\n",
    "    symbol = 'circle-open'\n",
    ")\n",
    "\n",
    "\n",
    "# setup traces\n",
    "trace0 = go.Scatter(\n",
    "    y = permA,\n",
    "    x = por_i,\n",
    "    mode = 'lines',\n",
    "    name = 'Model 1. Reducing Number of Tubes',\n",
    "    line = line0\n",
    ")\n",
    "trace1 = go.Scatter(\n",
    "    y = permB,\n",
    "    x = por_i,\n",
    "    mode = 'lines',\n",
    "    name = 'Model 2. Reducing Tube Diameter',\n",
    "    line = line1\n",
    ")\n",
    "trace2 = go.Scatter(\n",
    "    y = permC,\n",
    "    x = por_i,\n",
    "    mode = 'lines',\n",
    "    name = 'Model 3. Increasing Kernel Diameter',\n",
    "    line = line2\n",
    ")\n",
    "trace3 = go.Scatter(\n",
    "    y = np_revil_perm,\n",
    "    x = np_revil_por,\n",
    "    mode = 'markers',\n",
    "    name = 'Fontainbleau Sandstone (Gomez 2010)',\n",
    "    marker = marker3\n",
    ")\n",
    "trace4 = go.Scatter(\n",
    "    y = np_gomez_perm,\n",
    "    x = np_gomez_por,\n",
    "    mode = 'markers',\n",
    "    name = 'Fontainbleau Sandstone (Revil 2014)',\n",
    "    marker = marker4\n",
    ")\n",
    "\n",
    "\n",
    "data = [trace0, trace1, trace2, trace3, trace4]\n",
    "\n",
    "# setup the chart layout\n",
    "layout = go.Layout(\n",
    "    title = 'Permeability vs Porosity, Experimental Data vs 3 Tube Models',\n",
    "    height=600,\n",
    "    yaxis=dict(\n",
    "        title='Permeability (m^2)',\n",
    "        type='log',\n",
    "        showline=True,\n",
    "        autorange=True\n",
    "    ),\n",
    "    xaxis=dict(\n",
    "        title='Porosity (%)',\n",
    "        showline=True,\n",
    "        autorange=True\n",
    "    )\n",
    ")\n",
    "fig = go.Figure(data=data, layout=layout)\n",
    "#py.iplot(fig)\n",
    "fig.show()\n",
    "\n"
   ]
  },
  {
   "cell_type": "markdown",
   "id": "fcc475fc",
   "metadata": {},
   "source": [
    "> *Figure 2.11: Permeability vs porosity models based on three methods of variation; 1. Reducing the number of tubes, 2. Reducing the radius of tubes, and 3. Increasing the radius of kernels. Compared to two set of experimental data on Fontainbleau sandstones (cite here)*\n",
    "\n",
    "Visual inspection of Figure 2.11 demonstrates that none of the three proposed methods of varying the permeability and porosity of a block pierced by tubes properly model the actual behaviour of the Fontainbleau sandstone samples.\n",
    "\n",
    "### Third Dimension and Tortuosity\n",
    "Modelling rock as a block with a fixed cross-section clearly does not produce permeability that matches the actual results of the laboratory results for Fontainbleau sandstone. The proposal is to model this behaviour by assuming the tortuosity $\\tau$ varies with the porosity $\\phi$.\n",
    "\n",
    "Consider two candidate equations for this dependence\n",
    "\n",
    "$$\\tau_1 = \\phi^{-1.2}$$\n",
    "\n",
    "derived from experiments, and\n",
    "\n",
    "$$\\tau_2 = (1 + \\phi^{-1})/2$$\n",
    "\n",
    "theoretically derived.\n",
    "\n",
    "At $\\phi = 0.30$, these two equations give $\\tau = 4.24$ and $\\tau = 2.167$ respectively. In order to examine the effect of these two relations on the 3 models, they need to be scaled to the permeability of the original block $\\kappa_0 = 6.398 * 10^{-12} m^2$. This then results in the following two scaled expressions.\n",
    "\n",
    "$$\\tau_1 = 0.472 \\cdot \\phi^{-1.2}$$\n",
    "\n",
    "and\n",
    "\n",
    "$$\\tau_2 = 0.461 \\cdot (1 + \\phi^{-1})$$\n",
    "\n",
    "The results from using these two expressions, on the three different tube models are shown in the charts below."
   ]
  },
  {
   "cell_type": "code",
   "execution_count": 3,
   "id": "fde1ea32",
   "metadata": {
    "hide_input": true
   },
   "outputs": [
    {
     "data": {
      "application/vnd.plotly.v1+json": {
       "config": {
        "plotlyServerURL": "https://plot.ly"
       },
       "data": [
        {
         "marker": {
          "color": "rgb(68, 114, 196)",
          "symbol": "cross"
         },
         "mode": "markers",
         "name": "Fontainbleau Sandstone (Gomez 2010)",
         "type": "scatter",
         "x": [
          0.066,
          0.054,
          0.057,
          0.075,
          0.069,
          0.05,
          0.106,
          0.102,
          0.097,
          0.068,
          0.202,
          0.067,
          0.222,
          0.073,
          0.084,
          0.078,
          0.085,
          0.085,
          0.168,
          0.164,
          0.159,
          0.155,
          0.151,
          0.207,
          0.212,
          0.174,
          0.17,
          0.158,
          0.1,
          0.159,
          0.159,
          0.17,
          0.045,
          0.07,
          0.092,
          0.109,
          0.069,
          0.069,
          0.18,
          0.188,
          0.189,
          0.194,
          0.052,
          0.047,
          0.059,
          0.108,
          0.103,
          0.099,
          0.056,
          0.052,
          0.08,
          0.111,
          0.113,
          0.062,
          0.094,
          0.202,
          0.045,
          0.055,
          0.16,
          0.051,
          0.114,
          0.077,
          0.171,
          0.115,
          0.192,
          0.054,
          0.126,
          0.042,
          0.071
         ],
         "y": [
          1.82e-14,
          3.35e-15,
          6.3e-15,
          2.11e-14,
          4.97e-14,
          2.49e-15,
          1.54e-13,
          1.55e-13,
          1.33e-13,
          1.02e-14,
          3.4e-12,
          1.21e-14,
          3.56e-12,
          1.09e-14,
          4.23e-14,
          2.29e-14,
          5.81e-14,
          1.72e-13,
          1.64e-12,
          1.69e-12,
          1.77e-12,
          1.54e-12,
          1.22e-12,
          3.12e-12,
          4.52e-12,
          1.35e-12,
          9.81e-13,
          7.02e-13,
          1.9e-13,
          1.28e-12,
          1.19e-12,
          1.09e-12,
          1.9e-15,
          2.42e-14,
          1.82e-13,
          1.49e-13,
          1.57e-14,
          2.36e-14,
          1.74e-12,
          2.28e-12,
          2.18e-12,
          3.39e-12,
          1.2e-15,
          1.3e-15,
          5.3e-15,
          2.82e-13,
          3.99e-13,
          2e-13,
          6.1e-15,
          4.7e-15,
          4.1e-14,
          3.24e-13,
          3.59e-13,
          1.02e-14,
          9.92e-14,
          4.08e-12,
          5.24e-16,
          4.1e-15,
          1.43e-12,
          2.17e-15,
          3.16e-13,
          4.44e-14,
          1.27e-12,
          3.5e-13,
          2.88e-12,
          1.91e-15,
          5.64e-13,
          3.91e-16,
          1.72e-14
         ]
        },
        {
         "marker": {
          "color": "rgb(0,0,0)",
          "symbol": "circle-open"
         },
         "mode": "markers",
         "name": "Fontainbleau Sandstone (Revil 2014)",
         "type": "scatter",
         "x": [
          0.07,
          0.07,
          0.07,
          0.08,
          0.1,
          0.08,
          0.11,
          0.11,
          0.09,
          0.11,
          0.1,
          0.08,
          0.15,
          0.17,
          0.16,
          0.18,
          0.18,
          0.18,
          0.25,
          0.24,
          0.24,
          0.06,
          0.1
         ],
         "y": [
          9.869e-15,
          5.922e-15,
          1.184e-14,
          6.908e-15,
          4.935e-14,
          2.566e-14,
          1.017e-13,
          1.056e-13,
          7.698e-14,
          1.194e-13,
          1.549e-13,
          2.862e-14,
          5.843e-13,
          6.948e-13,
          6.287e-13,
          9.001e-13,
          9.524e-13,
          8.843e-13,
          3.583e-12,
          2.856e-12,
          3.039e-12,
          9.869e-16,
          3.158e-14
         ]
        },
        {
         "line": {
          "color": "rgb(192, 0, 0)",
          "width": 2
         },
         "mode": "lines",
         "name": "Eqn. 88 - Model 1. Reducing Number of Tubes",
         "type": "scatter",
         "x": [
          0.03,
          0.04,
          0.05,
          0.06,
          0.07,
          0.08,
          0.09,
          0.1,
          0.11,
          0.12,
          0.13,
          0.14,
          0.15,
          0.16,
          0.17,
          0.18,
          0.19,
          0.2,
          0.21,
          0.22,
          0.23,
          0.24,
          0.25,
          0.26,
          0.27,
          0.28,
          0.29,
          0.3
         ],
         "y": [
          3.5575846340493166e-15,
          9.461215728668364e-15,
          2.0204168849846886e-14,
          3.7554088542977313e-14,
          6.342731257132113e-14,
          9.987319199605471e-14,
          1.4906219314082558e-13,
          2.13276485023714e-13,
          2.9490226225634546e-13,
          3.964233353145943e-13,
          5.204156789900978e-13,
          6.695427255753861e-13,
          8.465512501153836e-13,
          1.0542677353034742e-12,
          1.2955951311926926e-12,
          1.5735099443718116e-12,
          1.8910596053554274e-12,
          2.2513600733650184e-12,
          2.657593645537068e-12,
          3.1130069436165637e-12,
          3.620909055877314e-12,
          4.184669815700663e-12,
          4.807718201186458e-12,
          5.493540842541448e-12,
          6.245680625920081e-12,
          7.067735383977332e-12,
          7.963356664704794e-12,
          8.936248571215452e-12
         ]
        },
        {
         "line": {
          "color": "rgb(255, 192, 0)",
          "width": 2
         },
         "mode": "lines",
         "name": "Eqn. 88 - Model 2. Reducing Tube Diameter",
         "type": "scatter",
         "x": [
          0.03,
          0.04,
          0.05,
          0.06,
          0.07,
          0.08,
          0.09,
          0.1,
          0.11,
          0.12,
          0.13,
          0.14,
          0.15,
          0.16,
          0.17,
          0.18,
          0.19,
          0.2,
          0.21,
          0.22,
          0.23,
          0.24,
          0.25,
          0.26,
          0.27,
          0.28,
          0.29,
          0.3
         ],
         "y": [
          2.243073648546503e-17,
          1.1233121551936664e-16,
          3.919191920939913e-16,
          1.087956444481554e-15,
          2.579369326657335e-15,
          5.4483930975665286e-15,
          1.0537135377876115e-14,
          1.9009229190087482e-14,
          3.241630752927227e-14,
          5.2769075409358107e-14,
          8.261278817749795e-14,
          1.2510697022602535e-13,
          1.8410922828852473e-13,
          2.642630297229595e-13,
          3.7108932952840284e-13,
          5.110819409859083e-13,
          6.918065542401888e-13,
          9.220033152002764e-13,
          1.2116928840986294e-12,
          1.572285899110839e-12,
          2.016695775758308e-12,
          2.5594547775168185e-12,
          3.216833297232277e-12,
          4.0069622926799365e-12,
          4.949958822958667e-12,
          6.068054635440309e-12,
          7.385727755738605e-12,
          8.92983703565958e-12
         ]
        },
        {
         "line": {
          "color": "rgb(210,105,30)",
          "width": 2
         },
         "mode": "lines",
         "name": "Eqn. 88 - Model 3. Increasing Kernel Diameter",
         "type": "scatter",
         "x": [
          0.03,
          0.04,
          0.05,
          0.06,
          0.07,
          0.08,
          0.09,
          0.1,
          0.11,
          0.12,
          0.13,
          0.14,
          0.15,
          0.16,
          0.17,
          0.18,
          0.19,
          0.2,
          0.21,
          0.22,
          0.23,
          0.24,
          0.25,
          0.26,
          0.27,
          0.28,
          0.29,
          0.3
         ],
         "y": [
          2.3645746044909696e-20,
          2.2361075208075378e-19,
          1.2795129933450227e-18,
          5.3306038607562915e-18,
          1.7847239001808146e-17,
          5.093759040551928e-17,
          1.2873889924249207e-16,
          2.957234110969525e-16,
          6.289849840154218e-16,
          1.2558865702312855e-15,
          2.3788774151015597e-15,
          4.309886873985102e-15,
          7.517555335990189e-15,
          1.2691810550686389e-14,
          2.0832169815999e-14,
          3.3369039712604155e-14,
          5.233189795209875e-14,
          8.058588113316912e-14,
          1.22171511868941e-13,
          1.8280633176182755e-13,
          2.706536726037426e-13,
          3.975605641838322e-13,
          5.811879788659761e-13,
          8.490274319671774e-13,
          1.247037055800589e-12,
          1.8624153222692787e-12,
          2.9109209650391303e-12,
          6.475776731636567e-12
         ]
        },
        {
         "line": {
          "color": "rgb(192, 0, 0)",
          "dash": "dash",
          "width": 2
         },
         "mode": "lines",
         "name": "Eqn. 89 - Model 1. Reducing Number of Tubes",
         "type": "scatter",
         "x": [
          0.03,
          0.04,
          0.05,
          0.06,
          0.07,
          0.08,
          0.09,
          0.1,
          0.11,
          0.12,
          0.13,
          0.14,
          0.15,
          0.16,
          0.17,
          0.18,
          0.19,
          0.2,
          0.21,
          0.22,
          0.23,
          0.24,
          0.25,
          0.26,
          0.27,
          0.28,
          0.29,
          0.3
         ],
         "y": [
          1.429270519148695e-14,
          3.323061787781835e-14,
          6.367317938040022e-14,
          1.0796106043181568e-13,
          1.6824868779137883e-13,
          2.4651739572461124e-13,
          3.4458760652849913e-13,
          4.641301174670495e-13,
          6.066765647933267e-13,
          7.736291294718627e-13,
          9.662695437159378e-13,
          1.1857674524613705e-12,
          1.433188179361863e-12,
          1.7094999427656756e-12,
          2.0155805633792786e-12,
          2.3522237019046815e-12,
          2.7201446618210968e-12,
          3.1199857896396116e-12,
          3.552321502365575e-12,
          4.017662969534308e-12,
          4.5164624750202434e-12,
          5.049117481839253e-12,
          5.615974421351301e-12,
          6.217332226610639e-12,
          6.853445628089633e-12,
          7.52452822860741e-12,
          8.230755373014654e-12,
          8.97226682701095e-12
         ]
        },
        {
         "line": {
          "color": "rgb(255, 192, 0)",
          "dash": "dash",
          "width": 2
         },
         "mode": "lines",
         "name": "Eqn. 89 - Model 2. Reducing Tube Diameter",
         "type": "scatter",
         "x": [
          0.03,
          0.04,
          0.05,
          0.06,
          0.07,
          0.08,
          0.09,
          0.1,
          0.11,
          0.12,
          0.13,
          0.14,
          0.15,
          0.16,
          0.17,
          0.18,
          0.19,
          0.2,
          0.21,
          0.22,
          0.23,
          0.24,
          0.25,
          0.26,
          0.27,
          0.28,
          0.29,
          0.3
         ],
         "y": [
          1.8062685744878645e-16,
          7.3941399349071275e-16,
          2.1926527152833057e-15,
          5.303058069666641e-15,
          1.1143627685701938e-14,
          2.112838953345368e-14,
          3.703571897343145e-14,
          6.102526460176916e-14,
          9.564939250985203e-14,
          1.4385994464973776e-13,
          2.0901100703226508e-13,
          2.948582957449872e-13,
          4.05555691747021e-13,
          5.456493877560785e-13,
          7.200700511356268e-13,
          9.341233545093504e-13,
          1.1934791799945246e-12,
          1.5041597626843482e-12,
          1.872527003646508e-12,
          2.3052691516495486e-12,
          2.809387025561169e-12,
          3.392179925428261e-12,
          4.0612313592477395e-12,
          4.824394694018873e-12,
          5.6897788235236726e-12,
          6.66573393114031e-12,
          7.760837413617239e-12,
          8.983880020912158e-12
         ]
        },
        {
         "line": {
          "color": "rgb(210,105,30)",
          "dash": "dash",
          "width": 2
         },
         "mode": "lines",
         "name": "Eqn. 89 - Model 3. Increasing Kernel Diameter",
         "type": "scatter",
         "x": [
          0.03,
          0.04,
          0.05,
          0.06,
          0.07,
          0.08,
          0.09,
          0.1,
          0.11,
          0.12,
          0.13,
          0.14,
          0.15,
          0.16,
          0.17,
          0.18,
          0.19,
          0.2,
          0.21,
          0.22,
          0.23,
          0.24,
          0.25,
          0.26,
          0.27,
          0.28,
          0.29,
          0.3
         ],
         "y": [
          3.82874636011555e-19,
          2.7730592100807267e-18,
          1.2805905259624296e-17,
          4.451509170558834e-17,
          1.2726589671095186e-16,
          3.154917458193097e-16,
          7.017037446295479e-16,
          1.4332959438180406e-15,
          2.733801913642026e-15,
          4.929462202355647e-15,
          8.482262677939825e-15,
          1.4031042146462112e-14,
          2.2442911794387712e-14,
          3.487819084069742e-14,
          5.2873531257827816e-14,
          7.845020804621697e-14,
          1.1425828214283384e-13,
          1.6377361207559118e-13,
          2.3157568938965745e-13,
          3.2375457705321594e-13,
          4.4853506734817933e-13,
          6.172903892226176e-13,
          8.463133131364603e-13,
          1.1602254479501792e-12,
          1.5994973797576435e-12,
          2.240904117542681e-12,
          3.2793430798859283e-12,
          null
         ]
        }
       ],
       "layout": {
        "height": 600,
        "template": {
         "data": {
          "bar": [
           {
            "error_x": {
             "color": "#2a3f5f"
            },
            "error_y": {
             "color": "#2a3f5f"
            },
            "marker": {
             "line": {
              "color": "#E5ECF6",
              "width": 0.5
             },
             "pattern": {
              "fillmode": "overlay",
              "size": 10,
              "solidity": 0.2
             }
            },
            "type": "bar"
           }
          ],
          "barpolar": [
           {
            "marker": {
             "line": {
              "color": "#E5ECF6",
              "width": 0.5
             },
             "pattern": {
              "fillmode": "overlay",
              "size": 10,
              "solidity": 0.2
             }
            },
            "type": "barpolar"
           }
          ],
          "carpet": [
           {
            "aaxis": {
             "endlinecolor": "#2a3f5f",
             "gridcolor": "white",
             "linecolor": "white",
             "minorgridcolor": "white",
             "startlinecolor": "#2a3f5f"
            },
            "baxis": {
             "endlinecolor": "#2a3f5f",
             "gridcolor": "white",
             "linecolor": "white",
             "minorgridcolor": "white",
             "startlinecolor": "#2a3f5f"
            },
            "type": "carpet"
           }
          ],
          "choropleth": [
           {
            "colorbar": {
             "outlinewidth": 0,
             "ticks": ""
            },
            "type": "choropleth"
           }
          ],
          "contour": [
           {
            "colorbar": {
             "outlinewidth": 0,
             "ticks": ""
            },
            "colorscale": [
             [
              0,
              "#0d0887"
             ],
             [
              0.1111111111111111,
              "#46039f"
             ],
             [
              0.2222222222222222,
              "#7201a8"
             ],
             [
              0.3333333333333333,
              "#9c179e"
             ],
             [
              0.4444444444444444,
              "#bd3786"
             ],
             [
              0.5555555555555556,
              "#d8576b"
             ],
             [
              0.6666666666666666,
              "#ed7953"
             ],
             [
              0.7777777777777778,
              "#fb9f3a"
             ],
             [
              0.8888888888888888,
              "#fdca26"
             ],
             [
              1,
              "#f0f921"
             ]
            ],
            "type": "contour"
           }
          ],
          "contourcarpet": [
           {
            "colorbar": {
             "outlinewidth": 0,
             "ticks": ""
            },
            "type": "contourcarpet"
           }
          ],
          "heatmap": [
           {
            "colorbar": {
             "outlinewidth": 0,
             "ticks": ""
            },
            "colorscale": [
             [
              0,
              "#0d0887"
             ],
             [
              0.1111111111111111,
              "#46039f"
             ],
             [
              0.2222222222222222,
              "#7201a8"
             ],
             [
              0.3333333333333333,
              "#9c179e"
             ],
             [
              0.4444444444444444,
              "#bd3786"
             ],
             [
              0.5555555555555556,
              "#d8576b"
             ],
             [
              0.6666666666666666,
              "#ed7953"
             ],
             [
              0.7777777777777778,
              "#fb9f3a"
             ],
             [
              0.8888888888888888,
              "#fdca26"
             ],
             [
              1,
              "#f0f921"
             ]
            ],
            "type": "heatmap"
           }
          ],
          "heatmapgl": [
           {
            "colorbar": {
             "outlinewidth": 0,
             "ticks": ""
            },
            "colorscale": [
             [
              0,
              "#0d0887"
             ],
             [
              0.1111111111111111,
              "#46039f"
             ],
             [
              0.2222222222222222,
              "#7201a8"
             ],
             [
              0.3333333333333333,
              "#9c179e"
             ],
             [
              0.4444444444444444,
              "#bd3786"
             ],
             [
              0.5555555555555556,
              "#d8576b"
             ],
             [
              0.6666666666666666,
              "#ed7953"
             ],
             [
              0.7777777777777778,
              "#fb9f3a"
             ],
             [
              0.8888888888888888,
              "#fdca26"
             ],
             [
              1,
              "#f0f921"
             ]
            ],
            "type": "heatmapgl"
           }
          ],
          "histogram": [
           {
            "marker": {
             "pattern": {
              "fillmode": "overlay",
              "size": 10,
              "solidity": 0.2
             }
            },
            "type": "histogram"
           }
          ],
          "histogram2d": [
           {
            "colorbar": {
             "outlinewidth": 0,
             "ticks": ""
            },
            "colorscale": [
             [
              0,
              "#0d0887"
             ],
             [
              0.1111111111111111,
              "#46039f"
             ],
             [
              0.2222222222222222,
              "#7201a8"
             ],
             [
              0.3333333333333333,
              "#9c179e"
             ],
             [
              0.4444444444444444,
              "#bd3786"
             ],
             [
              0.5555555555555556,
              "#d8576b"
             ],
             [
              0.6666666666666666,
              "#ed7953"
             ],
             [
              0.7777777777777778,
              "#fb9f3a"
             ],
             [
              0.8888888888888888,
              "#fdca26"
             ],
             [
              1,
              "#f0f921"
             ]
            ],
            "type": "histogram2d"
           }
          ],
          "histogram2dcontour": [
           {
            "colorbar": {
             "outlinewidth": 0,
             "ticks": ""
            },
            "colorscale": [
             [
              0,
              "#0d0887"
             ],
             [
              0.1111111111111111,
              "#46039f"
             ],
             [
              0.2222222222222222,
              "#7201a8"
             ],
             [
              0.3333333333333333,
              "#9c179e"
             ],
             [
              0.4444444444444444,
              "#bd3786"
             ],
             [
              0.5555555555555556,
              "#d8576b"
             ],
             [
              0.6666666666666666,
              "#ed7953"
             ],
             [
              0.7777777777777778,
              "#fb9f3a"
             ],
             [
              0.8888888888888888,
              "#fdca26"
             ],
             [
              1,
              "#f0f921"
             ]
            ],
            "type": "histogram2dcontour"
           }
          ],
          "mesh3d": [
           {
            "colorbar": {
             "outlinewidth": 0,
             "ticks": ""
            },
            "type": "mesh3d"
           }
          ],
          "parcoords": [
           {
            "line": {
             "colorbar": {
              "outlinewidth": 0,
              "ticks": ""
             }
            },
            "type": "parcoords"
           }
          ],
          "pie": [
           {
            "automargin": true,
            "type": "pie"
           }
          ],
          "scatter": [
           {
            "fillpattern": {
             "fillmode": "overlay",
             "size": 10,
             "solidity": 0.2
            },
            "type": "scatter"
           }
          ],
          "scatter3d": [
           {
            "line": {
             "colorbar": {
              "outlinewidth": 0,
              "ticks": ""
             }
            },
            "marker": {
             "colorbar": {
              "outlinewidth": 0,
              "ticks": ""
             }
            },
            "type": "scatter3d"
           }
          ],
          "scattercarpet": [
           {
            "marker": {
             "colorbar": {
              "outlinewidth": 0,
              "ticks": ""
             }
            },
            "type": "scattercarpet"
           }
          ],
          "scattergeo": [
           {
            "marker": {
             "colorbar": {
              "outlinewidth": 0,
              "ticks": ""
             }
            },
            "type": "scattergeo"
           }
          ],
          "scattergl": [
           {
            "marker": {
             "colorbar": {
              "outlinewidth": 0,
              "ticks": ""
             }
            },
            "type": "scattergl"
           }
          ],
          "scattermapbox": [
           {
            "marker": {
             "colorbar": {
              "outlinewidth": 0,
              "ticks": ""
             }
            },
            "type": "scattermapbox"
           }
          ],
          "scatterpolar": [
           {
            "marker": {
             "colorbar": {
              "outlinewidth": 0,
              "ticks": ""
             }
            },
            "type": "scatterpolar"
           }
          ],
          "scatterpolargl": [
           {
            "marker": {
             "colorbar": {
              "outlinewidth": 0,
              "ticks": ""
             }
            },
            "type": "scatterpolargl"
           }
          ],
          "scatterternary": [
           {
            "marker": {
             "colorbar": {
              "outlinewidth": 0,
              "ticks": ""
             }
            },
            "type": "scatterternary"
           }
          ],
          "surface": [
           {
            "colorbar": {
             "outlinewidth": 0,
             "ticks": ""
            },
            "colorscale": [
             [
              0,
              "#0d0887"
             ],
             [
              0.1111111111111111,
              "#46039f"
             ],
             [
              0.2222222222222222,
              "#7201a8"
             ],
             [
              0.3333333333333333,
              "#9c179e"
             ],
             [
              0.4444444444444444,
              "#bd3786"
             ],
             [
              0.5555555555555556,
              "#d8576b"
             ],
             [
              0.6666666666666666,
              "#ed7953"
             ],
             [
              0.7777777777777778,
              "#fb9f3a"
             ],
             [
              0.8888888888888888,
              "#fdca26"
             ],
             [
              1,
              "#f0f921"
             ]
            ],
            "type": "surface"
           }
          ],
          "table": [
           {
            "cells": {
             "fill": {
              "color": "#EBF0F8"
             },
             "line": {
              "color": "white"
             }
            },
            "header": {
             "fill": {
              "color": "#C8D4E3"
             },
             "line": {
              "color": "white"
             }
            },
            "type": "table"
           }
          ]
         },
         "layout": {
          "annotationdefaults": {
           "arrowcolor": "#2a3f5f",
           "arrowhead": 0,
           "arrowwidth": 1
          },
          "autotypenumbers": "strict",
          "coloraxis": {
           "colorbar": {
            "outlinewidth": 0,
            "ticks": ""
           }
          },
          "colorscale": {
           "diverging": [
            [
             0,
             "#8e0152"
            ],
            [
             0.1,
             "#c51b7d"
            ],
            [
             0.2,
             "#de77ae"
            ],
            [
             0.3,
             "#f1b6da"
            ],
            [
             0.4,
             "#fde0ef"
            ],
            [
             0.5,
             "#f7f7f7"
            ],
            [
             0.6,
             "#e6f5d0"
            ],
            [
             0.7,
             "#b8e186"
            ],
            [
             0.8,
             "#7fbc41"
            ],
            [
             0.9,
             "#4d9221"
            ],
            [
             1,
             "#276419"
            ]
           ],
           "sequential": [
            [
             0,
             "#0d0887"
            ],
            [
             0.1111111111111111,
             "#46039f"
            ],
            [
             0.2222222222222222,
             "#7201a8"
            ],
            [
             0.3333333333333333,
             "#9c179e"
            ],
            [
             0.4444444444444444,
             "#bd3786"
            ],
            [
             0.5555555555555556,
             "#d8576b"
            ],
            [
             0.6666666666666666,
             "#ed7953"
            ],
            [
             0.7777777777777778,
             "#fb9f3a"
            ],
            [
             0.8888888888888888,
             "#fdca26"
            ],
            [
             1,
             "#f0f921"
            ]
           ],
           "sequentialminus": [
            [
             0,
             "#0d0887"
            ],
            [
             0.1111111111111111,
             "#46039f"
            ],
            [
             0.2222222222222222,
             "#7201a8"
            ],
            [
             0.3333333333333333,
             "#9c179e"
            ],
            [
             0.4444444444444444,
             "#bd3786"
            ],
            [
             0.5555555555555556,
             "#d8576b"
            ],
            [
             0.6666666666666666,
             "#ed7953"
            ],
            [
             0.7777777777777778,
             "#fb9f3a"
            ],
            [
             0.8888888888888888,
             "#fdca26"
            ],
            [
             1,
             "#f0f921"
            ]
           ]
          },
          "colorway": [
           "#636efa",
           "#EF553B",
           "#00cc96",
           "#ab63fa",
           "#FFA15A",
           "#19d3f3",
           "#FF6692",
           "#B6E880",
           "#FF97FF",
           "#FECB52"
          ],
          "font": {
           "color": "#2a3f5f"
          },
          "geo": {
           "bgcolor": "white",
           "lakecolor": "white",
           "landcolor": "#E5ECF6",
           "showlakes": true,
           "showland": true,
           "subunitcolor": "white"
          },
          "hoverlabel": {
           "align": "left"
          },
          "hovermode": "closest",
          "mapbox": {
           "style": "light"
          },
          "paper_bgcolor": "white",
          "plot_bgcolor": "#E5ECF6",
          "polar": {
           "angularaxis": {
            "gridcolor": "white",
            "linecolor": "white",
            "ticks": ""
           },
           "bgcolor": "#E5ECF6",
           "radialaxis": {
            "gridcolor": "white",
            "linecolor": "white",
            "ticks": ""
           }
          },
          "scene": {
           "xaxis": {
            "backgroundcolor": "#E5ECF6",
            "gridcolor": "white",
            "gridwidth": 2,
            "linecolor": "white",
            "showbackground": true,
            "ticks": "",
            "zerolinecolor": "white"
           },
           "yaxis": {
            "backgroundcolor": "#E5ECF6",
            "gridcolor": "white",
            "gridwidth": 2,
            "linecolor": "white",
            "showbackground": true,
            "ticks": "",
            "zerolinecolor": "white"
           },
           "zaxis": {
            "backgroundcolor": "#E5ECF6",
            "gridcolor": "white",
            "gridwidth": 2,
            "linecolor": "white",
            "showbackground": true,
            "ticks": "",
            "zerolinecolor": "white"
           }
          },
          "shapedefaults": {
           "line": {
            "color": "#2a3f5f"
           }
          },
          "ternary": {
           "aaxis": {
            "gridcolor": "white",
            "linecolor": "white",
            "ticks": ""
           },
           "baxis": {
            "gridcolor": "white",
            "linecolor": "white",
            "ticks": ""
           },
           "bgcolor": "#E5ECF6",
           "caxis": {
            "gridcolor": "white",
            "linecolor": "white",
            "ticks": ""
           }
          },
          "title": {
           "x": 0.05
          },
          "xaxis": {
           "automargin": true,
           "gridcolor": "white",
           "linecolor": "white",
           "ticks": "",
           "title": {
            "standoff": 15
           },
           "zerolinecolor": "white",
           "zerolinewidth": 2
          },
          "yaxis": {
           "automargin": true,
           "gridcolor": "white",
           "linecolor": "white",
           "ticks": "",
           "title": {
            "standoff": 15
           },
           "zerolinecolor": "white",
           "zerolinewidth": 2
          }
         }
        },
        "title": {
         "text": "Permeability vs Porosity, Experimental Data vs 2 Tortuosity Relations for 3 Tube Models"
        },
        "xaxis": {
         "autorange": true,
         "showline": true,
         "title": {
          "text": "Porosity (%)"
         }
        },
        "yaxis": {
         "autorange": true,
         "showline": true,
         "title": {
          "text": "Permeability (m^2)"
         },
         "type": "log"
        }
       }
      }
     },
     "metadata": {},
     "output_type": "display_data"
    }
   ],
   "source": [
    "# Authenticate and Import the Plotting Environment\n",
    "\n",
    "import plotly.graph_objects as go\n",
    "import os\n",
    "import pandas as pd\n",
    "import numpy as np\n",
    "from plotly import tools\n",
    "\n",
    "# setup paths and filename\n",
    "dirpath = os.getcwd()\n",
    "datapath = dirpath + '\\\\data\\\\'\n",
    "revilname = 'data\\\\revildata.csv'\n",
    "gomezname = 'data\\\\gomez.csv'\n",
    "\n",
    "T=2.0\n",
    "A=np.power(10.0,-6)\n",
    "N=50\n",
    "b=3.09*np.power(10.0,-5)\n",
    "pi=3.14159\n",
    "# setup porosity as a range from 0.03 to 0.3\n",
    "i=np.arange(3,31)\n",
    "por_i=i/100\n",
    "\n",
    "# Torosity Model 1\n",
    "T1=0.472 * np.power(por_i,-1.2)\n",
    "# setup case A\n",
    "N_i1 = (por_i * A)/(b*b*pi*T1)\n",
    "permA1 = ((pi*np.power(b,4))/(8*T1*A))*N_i1\n",
    "# setup case B\n",
    "innerB1 = (por_i * A)/(N*pi*T1)\n",
    "r_B1 = np.sqrt(innerB1)\n",
    "permB1 = ((N*pi)/(8*A*T1))*np.power(r_B1,4)\n",
    "# setup case C\n",
    "innerC1 = (1-((por_i * A)/(N*pi*T1*b*b)))\n",
    "r_C1 = np.sqrt(innerC1)\n",
    "r_C21=r_C1*r_C1\n",
    "p11=1-r_C21\n",
    "p21=p11*(1+ r_C21 + p11/np.log(r_C1))\n",
    "permC1 = ((N*pi)/(8*A*T1))*np.power(b,4)*p21\n",
    "\n",
    "# Torosity Model 2\n",
    "T2=0.461 *(1+ np.power(por_i,-1))\n",
    "# setup case A\n",
    "N_i2 = (por_i * A)/(b*b*pi*T2)\n",
    "permA2 = ((pi*np.power(b,4))/(8*T2*A))*N_i2\n",
    "# setup case B\n",
    "innerB2 = (por_i * A)/(N*pi*T2)\n",
    "r_B2 = np.sqrt(innerB2)\n",
    "permB2 = ((N*pi)/(8*A*T2))*np.power(r_B2,4)\n",
    "# setup case C\n",
    "innerC2 = (1-((por_i * A)/(N*pi*T2*b*b)))\n",
    "r_C2 = np.sqrt(innerC2)\n",
    "r_C22= np.power(r_C2,2)\n",
    "p12=1-r_C22\n",
    "p22=p12*(1+ r_C22 + p12/np.log(r_C2))\n",
    "permC2 = ((N*pi)/(8*A*T2))*np.power(b,4)*p22\n",
    "\n",
    "#read in experimental data\n",
    "df_revil = pd.read_csv(revilname)\n",
    "df_revil_por = df_revil['porosity']\n",
    "df_revil_perm = df_revil['perm']\n",
    "df_gomez = pd.read_csv(gomezname)\n",
    "df_gomez_por = df_gomez['porosity']\n",
    "df_gomez_perm = df_gomez['perm']\n",
    "# convert to numpy\n",
    "np_revil_por = df_revil_por.values\n",
    "np_revil_perm = df_revil_perm.values\n",
    "np_gomez_por = df_gomez_por.values\n",
    "np_gomez_perm = df_gomez_perm.values\n",
    "\n",
    "# Setup the Colours\n",
    "blue = 'rgb(68, 114, 196)'    # Velocity\n",
    "black = 'rgb(0,0,0)'          # V=1.0 m/s\n",
    "red = 'rgb(192, 0, 0)'        # r at V=1.0m/s\n",
    "yellow = 'rgb(255, 192, 0)'   # N=3, length to radius ratio\n",
    "brown = 'rgb(210,105,30)'     # N=100\n",
    "\n",
    "# setup lines\n",
    "line0 = dict( # Pressure Line\n",
    "    color = (red),\n",
    "    width = 2\n",
    ")\n",
    "line1 = dict( # V=1m/s\n",
    "    color = (yellow),\n",
    "    width = 2\n",
    ")\n",
    "line2 = dict(\n",
    "    color = (brown),\n",
    "    width = 2\n",
    ")\n",
    "line5 = dict( # Pressure Line\n",
    "    color = (red),\n",
    "    width = 2,\n",
    "    dash = 'dash'\n",
    ")\n",
    "line6 = dict( # V=1m/s\n",
    "    color = (yellow),\n",
    "    width = 2,\n",
    "    dash = 'dash'\n",
    ")\n",
    "line7 = dict(\n",
    "    color = (brown),\n",
    "    width = 2,\n",
    "    dash = 'dash'\n",
    ")\n",
    "\n",
    "# setup markers\n",
    "marker3 = dict(\n",
    "    color = (blue),\n",
    "    symbol = 'cross'\n",
    ")\n",
    "marker4 = dict(\n",
    "    color = (black),\n",
    "    symbol = 'circle-open'\n",
    ")\n",
    "\n",
    "\n",
    "# setup traces\n",
    "trace0 = go.Scatter(\n",
    "    y = permA1,\n",
    "    x = por_i,\n",
    "    mode = 'lines',\n",
    "    name = 'Eqn. 88 - Model 1. Reducing Number of Tubes',\n",
    "    line = line0\n",
    ")\n",
    "trace1 = go.Scatter(\n",
    "    y = permB1,\n",
    "    x = por_i,\n",
    "    mode = 'lines',\n",
    "    name = 'Eqn. 88 - Model 2. Reducing Tube Diameter',\n",
    "    line = line1\n",
    ")\n",
    "trace2 = go.Scatter(\n",
    "    y = permC1,\n",
    "    x = por_i,\n",
    "    mode = 'lines',\n",
    "    name = 'Eqn. 88 - Model 3. Increasing Kernel Diameter',\n",
    "    line = line2\n",
    ")\n",
    "\n",
    "trace5 = go.Scatter(\n",
    "    y = permA2,\n",
    "    x = por_i,\n",
    "    mode = 'lines',\n",
    "    name = 'Eqn. 89 - Model 1. Reducing Number of Tubes',\n",
    "    line = line5\n",
    ")\n",
    "trace6 = go.Scatter(\n",
    "    y = permB2,\n",
    "    x = por_i,\n",
    "    mode = 'lines',\n",
    "    name = 'Eqn. 89 - Model 2. Reducing Tube Diameter',\n",
    "    line = line6\n",
    ")\n",
    "trace7 = go.Scatter(\n",
    "    y = permC2,\n",
    "    x = por_i,\n",
    "    mode = 'lines',\n",
    "    name = 'Eqn. 89 - Model 3. Increasing Kernel Diameter',\n",
    "    line = line7\n",
    ")\n",
    "trace8 = go.Scatter(\n",
    "    y = np_revil_perm,\n",
    "    x = np_revil_por,\n",
    "    mode = 'markers',\n",
    "    name = 'Fontainbleau Sandstone (Gomez 2010)',\n",
    "    marker = marker3\n",
    ")\n",
    "trace9 = go.Scatter(\n",
    "    y = np_gomez_perm,\n",
    "    x = np_gomez_por,\n",
    "    mode = 'markers',\n",
    "    name = 'Fontainbleau Sandstone (Revil 2014)',\n",
    "    marker = marker4\n",
    ")\n",
    "\n",
    "data = [trace8, trace9, trace0, trace1, trace2, trace5, trace6, trace7]\n",
    "\n",
    "# setup the chart layout\n",
    "layout = go.Layout(\n",
    "    title = 'Permeability vs Porosity, Experimental Data vs 2 Tortuosity Relations for 3 Tube Models',\n",
    "    height=600,\n",
    "    yaxis=dict(\n",
    "        title='Permeability (m^2)',\n",
    "        type='log',\n",
    "        showline=True,\n",
    "        autorange=True\n",
    "    ),\n",
    "    xaxis=dict(\n",
    "        title='Porosity (%)',\n",
    "        showline=True,\n",
    "        autorange=True\n",
    "    )\n",
    ")\n",
    "fig = go.Figure(data=data, layout=layout)\n",
    "#py.iplot(fig)\n",
    "fig.show()\n"
   ]
  },
  {
   "cell_type": "markdown",
   "id": "184cbcb2",
   "metadata": {},
   "source": [
    "> *Figure 2.12: Two different tortuosity models, Eqn 88 & 89, applied to the three methods of varying the permeability vs porosity models; 1. Reducing the number of tubes, 2. Reducing the radius of tubes, and 3. Increasing the radius of kernels. Compared to two set of experimental data on Fontainbleau sandstones (cite here)*\n",
    "\n",
    "The results shown in Fig 2.12 above indicate that both equations produce similar results. Model 3, the shrinking pipes, shows the most similar trend, although the fit is far better at high porosity than low porosity.\n",
    "\n",
    "A common approach is to assume the tortuosity becomes infinite at some small percolation porosity $\\phi_p$. Equations 88 and 89 become\n",
    "\n",
    "$$\\tau_1 = 0.472 \\cdot (\\phi - \\phi_p)^{-1.2}$$\n",
    "\n",
    "and\n",
    "\n",
    "$$\\tau_2 = 0.462 \\cdot (1 + (\\phi - \\phi_p)^{-1})$$\n"
   ]
  },
  {
   "cell_type": "code",
   "execution_count": 4,
   "id": "ac8df622",
   "metadata": {
    "hide_input": true
   },
   "outputs": [
    {
     "data": {
      "application/vnd.plotly.v1+json": {
       "config": {
        "plotlyServerURL": "https://plot.ly"
       },
       "data": [
        {
         "marker": {
          "color": "rgb(68, 114, 196)",
          "symbol": "cross"
         },
         "mode": "markers",
         "name": "Fontainbleau Sandstone (Gomez 2010)",
         "type": "scatter",
         "x": [
          0.066,
          0.054,
          0.057,
          0.075,
          0.069,
          0.05,
          0.106,
          0.102,
          0.097,
          0.068,
          0.202,
          0.067,
          0.222,
          0.073,
          0.084,
          0.078,
          0.085,
          0.085,
          0.168,
          0.164,
          0.159,
          0.155,
          0.151,
          0.207,
          0.212,
          0.174,
          0.17,
          0.158,
          0.1,
          0.159,
          0.159,
          0.17,
          0.045,
          0.07,
          0.092,
          0.109,
          0.069,
          0.069,
          0.18,
          0.188,
          0.189,
          0.194,
          0.052,
          0.047,
          0.059,
          0.108,
          0.103,
          0.099,
          0.056,
          0.052,
          0.08,
          0.111,
          0.113,
          0.062,
          0.094,
          0.202,
          0.045,
          0.055,
          0.16,
          0.051,
          0.114,
          0.077,
          0.171,
          0.115,
          0.192,
          0.054,
          0.126,
          0.042,
          0.071
         ],
         "y": [
          1.82e-14,
          3.35e-15,
          6.3e-15,
          2.11e-14,
          4.97e-14,
          2.49e-15,
          1.54e-13,
          1.55e-13,
          1.33e-13,
          1.02e-14,
          3.4e-12,
          1.21e-14,
          3.56e-12,
          1.09e-14,
          4.23e-14,
          2.29e-14,
          5.81e-14,
          1.72e-13,
          1.64e-12,
          1.69e-12,
          1.77e-12,
          1.54e-12,
          1.22e-12,
          3.12e-12,
          4.52e-12,
          1.35e-12,
          9.81e-13,
          7.02e-13,
          1.9e-13,
          1.28e-12,
          1.19e-12,
          1.09e-12,
          1.9e-15,
          2.42e-14,
          1.82e-13,
          1.49e-13,
          1.57e-14,
          2.36e-14,
          1.74e-12,
          2.28e-12,
          2.18e-12,
          3.39e-12,
          1.2e-15,
          1.3e-15,
          5.3e-15,
          2.82e-13,
          3.99e-13,
          2e-13,
          6.1e-15,
          4.7e-15,
          4.1e-14,
          3.24e-13,
          3.59e-13,
          1.02e-14,
          9.92e-14,
          4.08e-12,
          5.24e-16,
          4.1e-15,
          1.43e-12,
          2.17e-15,
          3.16e-13,
          4.44e-14,
          1.27e-12,
          3.5e-13,
          2.88e-12,
          1.91e-15,
          5.64e-13,
          3.91e-16,
          1.72e-14
         ]
        },
        {
         "marker": {
          "color": "rgb(0,0,0)",
          "symbol": "circle-open"
         },
         "mode": "markers",
         "name": "Fontainbleau Sandstone (Revil 2014)",
         "type": "scatter",
         "x": [
          0.07,
          0.07,
          0.07,
          0.08,
          0.1,
          0.08,
          0.11,
          0.11,
          0.09,
          0.11,
          0.1,
          0.08,
          0.15,
          0.17,
          0.16,
          0.18,
          0.18,
          0.18,
          0.25,
          0.24,
          0.24,
          0.06,
          0.1
         ],
         "y": [
          9.869e-15,
          5.922e-15,
          1.184e-14,
          6.908e-15,
          4.935e-14,
          2.566e-14,
          1.017e-13,
          1.056e-13,
          7.698e-14,
          1.194e-13,
          1.549e-13,
          2.862e-14,
          5.843e-13,
          6.948e-13,
          6.287e-13,
          9.001e-13,
          9.524e-13,
          8.843e-13,
          3.583e-12,
          2.856e-12,
          3.039e-12,
          9.869e-16,
          3.158e-14
         ]
        },
        {
         "line": {
          "color": "rgb(192, 0, 0)",
          "width": 2
         },
         "mode": "lines",
         "name": "Eqn. 90 - Model 1. Reducing Number of Tubes",
         "type": "scatter",
         "x": [
          0.03,
          0.04,
          0.05,
          0.06,
          0.07,
          0.08,
          0.09,
          0.1,
          0.11,
          0.12,
          0.13,
          0.14,
          0.15,
          0.16,
          0.17,
          0.18,
          0.19,
          0.2,
          0.21,
          0.22,
          0.23,
          0.24,
          0.25,
          0.26,
          0.27,
          0.28,
          0.29,
          0.3
         ],
         "y": [
          4.826054696518582e-17,
          8.987149944318971e-16,
          3.827974179785784e-15,
          1.0300481617884063e-14,
          2.1966003459547983e-14,
          4.06352949457579e-14,
          6.82617691832061e-14,
          1.0692764618333122e-13,
          1.5883312531050542e-13,
          2.2628766095493448e-13,
          3.117027577542433e-13,
          4.175859010081022e-13,
          5.465353593488916e-13,
          7.012356736177855e-13,
          8.844536964194349e-13,
          1.0990350811414605e-12,
          1.3479011432100809e-12,
          1.6340460335462922e-12,
          1.9605341767860153e-12,
          2.3304979362409865e-12,
          2.747135474732319e-12,
          3.2137087859512293e-12,
          3.733541875322778e-12,
          4.310019072771925e-12,
          4.946583462533856e-12,
          5.646735417370128e-12,
          6.414031226365307e-12,
          7.252081806972507e-12
         ]
        },
        {
         "line": {
          "color": "rgb(255, 192, 0)",
          "width": 2
         },
         "mode": "lines",
         "name": "Eqn. 90 - Model 2. Reducing Tube Diameter",
         "type": "scatter",
         "x": [
          0.03,
          0.04,
          0.05,
          0.06,
          0.07,
          0.08,
          0.09,
          0.1,
          0.11,
          0.12,
          0.13,
          0.14,
          0.15,
          0.16,
          0.17,
          0.18,
          0.19,
          0.2,
          0.21,
          0.22,
          0.23,
          0.24,
          0.25,
          0.26,
          0.27,
          0.28,
          0.29,
          0.3
         ],
         "y": [
          3.5440434031287294e-20,
          3.288614915225923e-18,
          3.232127964698397e-17,
          1.5628308205083538e-16,
          5.256850624318145e-16,
          1.4140024536503042e-15,
          3.2654091827027863e-15,
          6.748155088138922e-15,
          1.2813211941144587e-14,
          2.2757889167313568e-14,
          3.82941724026668e-14,
          6.162157630294569e-14,
          9.550433212505201e-14,
          1.4335275335844274e-13,
          2.0930864089981977e-13,
          2.9833460412446065e-13,
          4.163071865261877e-13,
          5.701136949506037e-13,
          7.677526402499598e-13,
          1.0184377047521542e-12,
          1.3327051584945499e-12,
          1.7225246519053088e-12,
          2.2014133176608573e-12,
          2.7845531189188118e-12,
          3.488911385109977e-12,
          4.333364480042563e-12,
          5.338824550285176e-12,
          6.528369304700983e-12
         ]
        },
        {
         "line": {
          "color": "rgb(192, 0, 0)",
          "dash": "dash",
          "width": 2
         },
         "mode": "lines",
         "name": "Eqn. 91 - Model 1. Reducing Number of Tubes",
         "type": "scatter",
         "x": [
          0.03,
          0.04,
          0.05,
          0.06,
          0.07,
          0.08,
          0.09,
          0.1,
          0.11,
          0.12,
          0.13,
          0.14,
          0.15,
          0.16,
          0.17,
          0.18,
          0.19,
          0.2,
          0.21,
          0.22,
          0.23,
          0.24,
          0.25,
          0.26,
          0.27,
          0.28,
          0.29,
          0.3
         ],
         "y": [
          4.170174813508052e-16,
          4.906090396967819e-15,
          1.670426657153867e-14,
          3.85329057825686e-14,
          7.289799905922918e-14,
          1.221055960079077e-13,
          1.882760716541103e-13,
          2.7335732716150193e-13,
          3.791370104584039e-13,
          5.072538352681101e-13,
          6.59208070219836e-13,
          8.363712635389362e-13,
          1.0399952632132039e-12,
          1.2712205874486518e-12,
          1.5310841956114409e-12,
          1.8205267056564685e-12,
          2.140399100226192e-12,
          2.4914689601286896e-12,
          2.8744262607386374e-12,
          3.2898887639792242e-12,
          3.738407035910286e-12,
          4.220469117544502e-12,
          4.736504874317526e-12,
          5.286890047630524e-12,
          5.87195003004695e-12,
          6.491963384044262e-12,
          7.147165122681154e-12,
          7.837749769129265e-12
         ]
        },
        {
         "line": {
          "color": "rgb(255, 192, 0)",
          "dash": "dash",
          "width": 2
         },
         "mode": "lines",
         "name": "Eqn. 91 - Model 2. Reducing Tube Diameter",
         "type": "scatter",
         "x": [
          0.03,
          0.04,
          0.05,
          0.06,
          0.07,
          0.08,
          0.09,
          0.1,
          0.11,
          0.12,
          0.13,
          0.14,
          0.15,
          0.16,
          0.17,
          0.18,
          0.19,
          0.2,
          0.21,
          0.22,
          0.23,
          0.24,
          0.25,
          0.26,
          0.27,
          0.28,
          0.29,
          0.3
         ],
         "y": [
          9.002063328374236e-19,
          4.19453052951158e-17,
          2.946294568598642e-16,
          1.1307674827554997e-15,
          3.17813599189357e-15,
          7.365434813309986e-15,
          1.495767153778557e-14,
          2.7583293722487065e-14,
          4.7254226599362963e-14,
          7.637982818047949e-14,
          1.177756458312901e-13,
          1.7466774639265158e-13,
          2.5069329378072473e-13,
          3.4989796194628633e-13,
          4.767306956210942e-13,
          6.360362651024977e-13,
          8.330460032803337e-13,
          1.0733670621900543e-12,
          1.3629704817075069e-12,
          1.708178323818372e-12,
          2.1156500915293133e-12,
          2.5923686213523155e-12,
          3.14562561187473e-12,
          3.783006927775325e-12,
          4.512377798366075e-12,
          5.341868011984235e-12,
          6.27985719202506e-12,
          7.334960226825076e-12
         ]
        }
       ],
       "layout": {
        "height": 600,
        "template": {
         "data": {
          "bar": [
           {
            "error_x": {
             "color": "#2a3f5f"
            },
            "error_y": {
             "color": "#2a3f5f"
            },
            "marker": {
             "line": {
              "color": "#E5ECF6",
              "width": 0.5
             },
             "pattern": {
              "fillmode": "overlay",
              "size": 10,
              "solidity": 0.2
             }
            },
            "type": "bar"
           }
          ],
          "barpolar": [
           {
            "marker": {
             "line": {
              "color": "#E5ECF6",
              "width": 0.5
             },
             "pattern": {
              "fillmode": "overlay",
              "size": 10,
              "solidity": 0.2
             }
            },
            "type": "barpolar"
           }
          ],
          "carpet": [
           {
            "aaxis": {
             "endlinecolor": "#2a3f5f",
             "gridcolor": "white",
             "linecolor": "white",
             "minorgridcolor": "white",
             "startlinecolor": "#2a3f5f"
            },
            "baxis": {
             "endlinecolor": "#2a3f5f",
             "gridcolor": "white",
             "linecolor": "white",
             "minorgridcolor": "white",
             "startlinecolor": "#2a3f5f"
            },
            "type": "carpet"
           }
          ],
          "choropleth": [
           {
            "colorbar": {
             "outlinewidth": 0,
             "ticks": ""
            },
            "type": "choropleth"
           }
          ],
          "contour": [
           {
            "colorbar": {
             "outlinewidth": 0,
             "ticks": ""
            },
            "colorscale": [
             [
              0,
              "#0d0887"
             ],
             [
              0.1111111111111111,
              "#46039f"
             ],
             [
              0.2222222222222222,
              "#7201a8"
             ],
             [
              0.3333333333333333,
              "#9c179e"
             ],
             [
              0.4444444444444444,
              "#bd3786"
             ],
             [
              0.5555555555555556,
              "#d8576b"
             ],
             [
              0.6666666666666666,
              "#ed7953"
             ],
             [
              0.7777777777777778,
              "#fb9f3a"
             ],
             [
              0.8888888888888888,
              "#fdca26"
             ],
             [
              1,
              "#f0f921"
             ]
            ],
            "type": "contour"
           }
          ],
          "contourcarpet": [
           {
            "colorbar": {
             "outlinewidth": 0,
             "ticks": ""
            },
            "type": "contourcarpet"
           }
          ],
          "heatmap": [
           {
            "colorbar": {
             "outlinewidth": 0,
             "ticks": ""
            },
            "colorscale": [
             [
              0,
              "#0d0887"
             ],
             [
              0.1111111111111111,
              "#46039f"
             ],
             [
              0.2222222222222222,
              "#7201a8"
             ],
             [
              0.3333333333333333,
              "#9c179e"
             ],
             [
              0.4444444444444444,
              "#bd3786"
             ],
             [
              0.5555555555555556,
              "#d8576b"
             ],
             [
              0.6666666666666666,
              "#ed7953"
             ],
             [
              0.7777777777777778,
              "#fb9f3a"
             ],
             [
              0.8888888888888888,
              "#fdca26"
             ],
             [
              1,
              "#f0f921"
             ]
            ],
            "type": "heatmap"
           }
          ],
          "heatmapgl": [
           {
            "colorbar": {
             "outlinewidth": 0,
             "ticks": ""
            },
            "colorscale": [
             [
              0,
              "#0d0887"
             ],
             [
              0.1111111111111111,
              "#46039f"
             ],
             [
              0.2222222222222222,
              "#7201a8"
             ],
             [
              0.3333333333333333,
              "#9c179e"
             ],
             [
              0.4444444444444444,
              "#bd3786"
             ],
             [
              0.5555555555555556,
              "#d8576b"
             ],
             [
              0.6666666666666666,
              "#ed7953"
             ],
             [
              0.7777777777777778,
              "#fb9f3a"
             ],
             [
              0.8888888888888888,
              "#fdca26"
             ],
             [
              1,
              "#f0f921"
             ]
            ],
            "type": "heatmapgl"
           }
          ],
          "histogram": [
           {
            "marker": {
             "pattern": {
              "fillmode": "overlay",
              "size": 10,
              "solidity": 0.2
             }
            },
            "type": "histogram"
           }
          ],
          "histogram2d": [
           {
            "colorbar": {
             "outlinewidth": 0,
             "ticks": ""
            },
            "colorscale": [
             [
              0,
              "#0d0887"
             ],
             [
              0.1111111111111111,
              "#46039f"
             ],
             [
              0.2222222222222222,
              "#7201a8"
             ],
             [
              0.3333333333333333,
              "#9c179e"
             ],
             [
              0.4444444444444444,
              "#bd3786"
             ],
             [
              0.5555555555555556,
              "#d8576b"
             ],
             [
              0.6666666666666666,
              "#ed7953"
             ],
             [
              0.7777777777777778,
              "#fb9f3a"
             ],
             [
              0.8888888888888888,
              "#fdca26"
             ],
             [
              1,
              "#f0f921"
             ]
            ],
            "type": "histogram2d"
           }
          ],
          "histogram2dcontour": [
           {
            "colorbar": {
             "outlinewidth": 0,
             "ticks": ""
            },
            "colorscale": [
             [
              0,
              "#0d0887"
             ],
             [
              0.1111111111111111,
              "#46039f"
             ],
             [
              0.2222222222222222,
              "#7201a8"
             ],
             [
              0.3333333333333333,
              "#9c179e"
             ],
             [
              0.4444444444444444,
              "#bd3786"
             ],
             [
              0.5555555555555556,
              "#d8576b"
             ],
             [
              0.6666666666666666,
              "#ed7953"
             ],
             [
              0.7777777777777778,
              "#fb9f3a"
             ],
             [
              0.8888888888888888,
              "#fdca26"
             ],
             [
              1,
              "#f0f921"
             ]
            ],
            "type": "histogram2dcontour"
           }
          ],
          "mesh3d": [
           {
            "colorbar": {
             "outlinewidth": 0,
             "ticks": ""
            },
            "type": "mesh3d"
           }
          ],
          "parcoords": [
           {
            "line": {
             "colorbar": {
              "outlinewidth": 0,
              "ticks": ""
             }
            },
            "type": "parcoords"
           }
          ],
          "pie": [
           {
            "automargin": true,
            "type": "pie"
           }
          ],
          "scatter": [
           {
            "fillpattern": {
             "fillmode": "overlay",
             "size": 10,
             "solidity": 0.2
            },
            "type": "scatter"
           }
          ],
          "scatter3d": [
           {
            "line": {
             "colorbar": {
              "outlinewidth": 0,
              "ticks": ""
             }
            },
            "marker": {
             "colorbar": {
              "outlinewidth": 0,
              "ticks": ""
             }
            },
            "type": "scatter3d"
           }
          ],
          "scattercarpet": [
           {
            "marker": {
             "colorbar": {
              "outlinewidth": 0,
              "ticks": ""
             }
            },
            "type": "scattercarpet"
           }
          ],
          "scattergeo": [
           {
            "marker": {
             "colorbar": {
              "outlinewidth": 0,
              "ticks": ""
             }
            },
            "type": "scattergeo"
           }
          ],
          "scattergl": [
           {
            "marker": {
             "colorbar": {
              "outlinewidth": 0,
              "ticks": ""
             }
            },
            "type": "scattergl"
           }
          ],
          "scattermapbox": [
           {
            "marker": {
             "colorbar": {
              "outlinewidth": 0,
              "ticks": ""
             }
            },
            "type": "scattermapbox"
           }
          ],
          "scatterpolar": [
           {
            "marker": {
             "colorbar": {
              "outlinewidth": 0,
              "ticks": ""
             }
            },
            "type": "scatterpolar"
           }
          ],
          "scatterpolargl": [
           {
            "marker": {
             "colorbar": {
              "outlinewidth": 0,
              "ticks": ""
             }
            },
            "type": "scatterpolargl"
           }
          ],
          "scatterternary": [
           {
            "marker": {
             "colorbar": {
              "outlinewidth": 0,
              "ticks": ""
             }
            },
            "type": "scatterternary"
           }
          ],
          "surface": [
           {
            "colorbar": {
             "outlinewidth": 0,
             "ticks": ""
            },
            "colorscale": [
             [
              0,
              "#0d0887"
             ],
             [
              0.1111111111111111,
              "#46039f"
             ],
             [
              0.2222222222222222,
              "#7201a8"
             ],
             [
              0.3333333333333333,
              "#9c179e"
             ],
             [
              0.4444444444444444,
              "#bd3786"
             ],
             [
              0.5555555555555556,
              "#d8576b"
             ],
             [
              0.6666666666666666,
              "#ed7953"
             ],
             [
              0.7777777777777778,
              "#fb9f3a"
             ],
             [
              0.8888888888888888,
              "#fdca26"
             ],
             [
              1,
              "#f0f921"
             ]
            ],
            "type": "surface"
           }
          ],
          "table": [
           {
            "cells": {
             "fill": {
              "color": "#EBF0F8"
             },
             "line": {
              "color": "white"
             }
            },
            "header": {
             "fill": {
              "color": "#C8D4E3"
             },
             "line": {
              "color": "white"
             }
            },
            "type": "table"
           }
          ]
         },
         "layout": {
          "annotationdefaults": {
           "arrowcolor": "#2a3f5f",
           "arrowhead": 0,
           "arrowwidth": 1
          },
          "autotypenumbers": "strict",
          "coloraxis": {
           "colorbar": {
            "outlinewidth": 0,
            "ticks": ""
           }
          },
          "colorscale": {
           "diverging": [
            [
             0,
             "#8e0152"
            ],
            [
             0.1,
             "#c51b7d"
            ],
            [
             0.2,
             "#de77ae"
            ],
            [
             0.3,
             "#f1b6da"
            ],
            [
             0.4,
             "#fde0ef"
            ],
            [
             0.5,
             "#f7f7f7"
            ],
            [
             0.6,
             "#e6f5d0"
            ],
            [
             0.7,
             "#b8e186"
            ],
            [
             0.8,
             "#7fbc41"
            ],
            [
             0.9,
             "#4d9221"
            ],
            [
             1,
             "#276419"
            ]
           ],
           "sequential": [
            [
             0,
             "#0d0887"
            ],
            [
             0.1111111111111111,
             "#46039f"
            ],
            [
             0.2222222222222222,
             "#7201a8"
            ],
            [
             0.3333333333333333,
             "#9c179e"
            ],
            [
             0.4444444444444444,
             "#bd3786"
            ],
            [
             0.5555555555555556,
             "#d8576b"
            ],
            [
             0.6666666666666666,
             "#ed7953"
            ],
            [
             0.7777777777777778,
             "#fb9f3a"
            ],
            [
             0.8888888888888888,
             "#fdca26"
            ],
            [
             1,
             "#f0f921"
            ]
           ],
           "sequentialminus": [
            [
             0,
             "#0d0887"
            ],
            [
             0.1111111111111111,
             "#46039f"
            ],
            [
             0.2222222222222222,
             "#7201a8"
            ],
            [
             0.3333333333333333,
             "#9c179e"
            ],
            [
             0.4444444444444444,
             "#bd3786"
            ],
            [
             0.5555555555555556,
             "#d8576b"
            ],
            [
             0.6666666666666666,
             "#ed7953"
            ],
            [
             0.7777777777777778,
             "#fb9f3a"
            ],
            [
             0.8888888888888888,
             "#fdca26"
            ],
            [
             1,
             "#f0f921"
            ]
           ]
          },
          "colorway": [
           "#636efa",
           "#EF553B",
           "#00cc96",
           "#ab63fa",
           "#FFA15A",
           "#19d3f3",
           "#FF6692",
           "#B6E880",
           "#FF97FF",
           "#FECB52"
          ],
          "font": {
           "color": "#2a3f5f"
          },
          "geo": {
           "bgcolor": "white",
           "lakecolor": "white",
           "landcolor": "#E5ECF6",
           "showlakes": true,
           "showland": true,
           "subunitcolor": "white"
          },
          "hoverlabel": {
           "align": "left"
          },
          "hovermode": "closest",
          "mapbox": {
           "style": "light"
          },
          "paper_bgcolor": "white",
          "plot_bgcolor": "#E5ECF6",
          "polar": {
           "angularaxis": {
            "gridcolor": "white",
            "linecolor": "white",
            "ticks": ""
           },
           "bgcolor": "#E5ECF6",
           "radialaxis": {
            "gridcolor": "white",
            "linecolor": "white",
            "ticks": ""
           }
          },
          "scene": {
           "xaxis": {
            "backgroundcolor": "#E5ECF6",
            "gridcolor": "white",
            "gridwidth": 2,
            "linecolor": "white",
            "showbackground": true,
            "ticks": "",
            "zerolinecolor": "white"
           },
           "yaxis": {
            "backgroundcolor": "#E5ECF6",
            "gridcolor": "white",
            "gridwidth": 2,
            "linecolor": "white",
            "showbackground": true,
            "ticks": "",
            "zerolinecolor": "white"
           },
           "zaxis": {
            "backgroundcolor": "#E5ECF6",
            "gridcolor": "white",
            "gridwidth": 2,
            "linecolor": "white",
            "showbackground": true,
            "ticks": "",
            "zerolinecolor": "white"
           }
          },
          "shapedefaults": {
           "line": {
            "color": "#2a3f5f"
           }
          },
          "ternary": {
           "aaxis": {
            "gridcolor": "white",
            "linecolor": "white",
            "ticks": ""
           },
           "baxis": {
            "gridcolor": "white",
            "linecolor": "white",
            "ticks": ""
           },
           "bgcolor": "#E5ECF6",
           "caxis": {
            "gridcolor": "white",
            "linecolor": "white",
            "ticks": ""
           }
          },
          "title": {
           "x": 0.05
          },
          "xaxis": {
           "automargin": true,
           "gridcolor": "white",
           "linecolor": "white",
           "ticks": "",
           "title": {
            "standoff": 15
           },
           "zerolinecolor": "white",
           "zerolinewidth": 2
          },
          "yaxis": {
           "automargin": true,
           "gridcolor": "white",
           "linecolor": "white",
           "ticks": "",
           "title": {
            "standoff": 15
           },
           "zerolinecolor": "white",
           "zerolinewidth": 2
          }
         }
        },
        "title": {
         "text": "Permeability vs Porosity, Experimental Data vs 2 Tortuosity Relations for 3 Tube Models"
        },
        "xaxis": {
         "autorange": true,
         "showline": true,
         "title": {
          "text": "Porosity (%)"
         }
        },
        "yaxis": {
         "autorange": true,
         "showline": true,
         "title": {
          "text": "Permeability (m^2)"
         },
         "type": "log"
        }
       }
      }
     },
     "metadata": {},
     "output_type": "display_data"
    }
   ],
   "source": [
    "import plotly.graph_objects as go\n",
    "import os\n",
    "import pandas as pd\n",
    "import numpy as np\n",
    "from plotly import tools\n",
    "\n",
    "# setup paths and filename\n",
    "dirpath = os.getcwd()\n",
    "datapath = dirpath + '\\\\data\\\\'\n",
    "revilname = 'data\\\\revildata.csv'\n",
    "gomezname = 'data\\\\gomez.csv'\n",
    "\n",
    "T=2.0\n",
    "A=np.power(10.0,-6)\n",
    "N=50\n",
    "b=3.09*np.power(10.0,-5)\n",
    "pi=3.14159\n",
    "perc=0.025\n",
    "# setup porosity as a range from 0.03 to 0.3\n",
    "i=np.arange(3,31)\n",
    "por_i=i/100\n",
    "\n",
    "# Torosity Model 1\n",
    "inpor1=por_i-perc\n",
    "T1=0.472 * np.power(inpor1,-1.2)\n",
    "# setup case A\n",
    "N_i1 = (por_i * A)/(b*b*pi*T1)\n",
    "permA1 = ((pi*np.power(b,4))/(8*T1*A))*N_i1\n",
    "# setup case B\n",
    "innerB1 = (por_i * A)/(N*pi*T1)\n",
    "r_B1 = np.sqrt(innerB1)\n",
    "permB1 = ((N*pi)/(8*A*T1))*np.power(r_B1,4)\n",
    "# setup case C\n",
    "innerC1 = (1-((por_i * A)/(N*pi*T1*b*b)))\n",
    "r_C1 = np.sqrt(innerC1)\n",
    "r_C21=r_C1*r_C1\n",
    "p11=1-r_C21\n",
    "p21=p11*(1+ r_C21 + p11/np.log(r_C1))\n",
    "permC1 = ((N*pi)/(8*A*T1))*np.power(b,4)*p21\n",
    "\n",
    "# Torosity Model 2\n",
    "T2=0.461 *(1+ np.power(inpor1,-1))\n",
    "# setup case A\n",
    "N_i2 = (por_i * A)/(b*b*pi*T2)\n",
    "permA2 = ((pi*np.power(b,4))/(8*T2*A))*N_i2\n",
    "# setup case B\n",
    "innerB2 = (por_i * A)/(N*pi*T2)\n",
    "r_B2 = np.sqrt(innerB2)\n",
    "permB2 = ((N*pi)/(8*A*T2))*np.power(r_B2,4)\n",
    "# setup case C\n",
    "innerC2 = (1-((por_i * A)/(N*pi*T2*b*b)))\n",
    "r_C2 = np.sqrt(innerC2)\n",
    "r_C22= np.power(r_C2,2)\n",
    "p12=1-r_C22\n",
    "p22=p12*(1+ r_C22 + p12/np.log(r_C2))\n",
    "permC2 = ((N*pi)/(8*A*T2))*np.power(b,4)*p22\n",
    "\n",
    "#read in experimental data\n",
    "df_revil = pd.read_csv(revilname)\n",
    "df_revil_por = df_revil['porosity']\n",
    "df_revil_perm = df_revil['perm']\n",
    "df_gomez = pd.read_csv(gomezname)\n",
    "df_gomez_por = df_gomez['porosity']\n",
    "df_gomez_perm = df_gomez['perm']\n",
    "# convert to numpy\n",
    "np_revil_por = df_revil_por.values\n",
    "np_revil_perm = df_revil_perm.values\n",
    "np_gomez_por = df_gomez_por.values\n",
    "np_gomez_perm = df_gomez_perm.values\n",
    "\n",
    "# Setup the Colours\n",
    "blue = 'rgb(68, 114, 196)'    # Velocity\n",
    "black = 'rgb(0,0,0)'          # V=1.0 m/s\n",
    "red = 'rgb(192, 0, 0)'        # r at V=1.0m/s\n",
    "yellow = 'rgb(255, 192, 0)'   # N=3, length to radius ratio\n",
    "brown = 'rgb(210,105,30)'     # N=100\n",
    "\n",
    "# setup lines\n",
    "line0 = dict( # Pressure Line\n",
    "    color = (red),\n",
    "    width = 2\n",
    ")\n",
    "line1 = dict( # V=1m/s\n",
    "    color = (yellow),\n",
    "    width = 2\n",
    ")\n",
    "line2 = dict(\n",
    "    color = (brown),\n",
    "    width = 2\n",
    ")\n",
    "line5 = dict( # Pressure Line\n",
    "    color = (red),\n",
    "    width = 2,\n",
    "    dash = 'dash'\n",
    ")\n",
    "line6 = dict( # V=1m/s\n",
    "    color = (yellow),\n",
    "    width = 2,\n",
    "    dash = 'dash'\n",
    ")\n",
    "line7 = dict(\n",
    "    color = (brown),\n",
    "    width = 2,\n",
    "    dash = 'dash'\n",
    ")\n",
    "\n",
    "# setup markers\n",
    "marker3 = dict(\n",
    "    color = (blue),\n",
    "    symbol = 'cross'\n",
    ")\n",
    "marker4 = dict(\n",
    "    color = (black),\n",
    "    symbol = 'circle-open'\n",
    ")\n",
    "\n",
    "\n",
    "# setup traces\n",
    "trace0 = go.Scatter(\n",
    "    y = permA1,\n",
    "    x = por_i,\n",
    "    mode = 'lines',\n",
    "    name = 'Eqn. 90 - Model 1. Reducing Number of Tubes',\n",
    "    line = line0\n",
    ")\n",
    "trace1 = go.Scatter(\n",
    "    y = permB1,\n",
    "    x = por_i,\n",
    "    mode = 'lines',\n",
    "    name = 'Eqn. 90 - Model 2. Reducing Tube Diameter',\n",
    "    line = line1\n",
    ")\n",
    "trace2 = go.Scatter(\n",
    "    y = permC1,\n",
    "    x = por_i,\n",
    "    mode = 'lines',\n",
    "    name = 'Eqn. 90 - Model 3. Increasing Kernel Diameter',\n",
    "    line = line2\n",
    ")\n",
    "\n",
    "trace5 = go.Scatter(\n",
    "    y = permA2,\n",
    "    x = por_i,\n",
    "    mode = 'lines',\n",
    "    name = 'Eqn. 91 - Model 1. Reducing Number of Tubes',\n",
    "    line = line5\n",
    ")\n",
    "trace6 = go.Scatter(\n",
    "    y = permB2,\n",
    "    x = por_i,\n",
    "    mode = 'lines',\n",
    "    name = 'Eqn. 91 - Model 2. Reducing Tube Diameter',\n",
    "    line = line6\n",
    ")\n",
    "trace7 = go.Scatter(\n",
    "    y = permC2,\n",
    "    x = por_i,\n",
    "    mode = 'lines',\n",
    "    name = 'Eqn. 91 - Model 3. Increasing Kernel Diameter',\n",
    "    line = line7\n",
    ")\n",
    "trace8 = go.Scatter(\n",
    "    y = np_revil_perm,\n",
    "    x = np_revil_por,\n",
    "    mode = 'markers',\n",
    "    name = 'Fontainbleau Sandstone (Gomez 2010)',\n",
    "    marker = marker3\n",
    ")\n",
    "trace9 = go.Scatter(\n",
    "    y = np_gomez_perm,\n",
    "    x = np_gomez_por,\n",
    "    mode = 'markers',\n",
    "    name = 'Fontainbleau Sandstone (Revil 2014)',\n",
    "    marker = marker4\n",
    ")\n",
    "\n",
    "data = [trace8, trace9, trace0, trace1, trace5, trace6]\n",
    "\n",
    "# setup the chart layout\n",
    "layout = go.Layout(\n",
    "    title = 'Permeability vs Porosity, Experimental Data vs 2 Tortuosity Relations for 3 Tube Models',\n",
    "    height=600,\n",
    "    yaxis=dict(\n",
    "        title='Permeability (m^2)',\n",
    "        type='log',\n",
    "        showline=True,\n",
    "        autorange=True\n",
    "    ),\n",
    "    xaxis=dict(\n",
    "        title='Porosity (%)',\n",
    "        showline=True,\n",
    "        autorange=True\n",
    "    )\n",
    ")\n",
    "fig = go.Figure(data=data, layout=layout)\n",
    "fig.show()"
   ]
  },
  {
   "cell_type": "markdown",
   "id": "03923fe2",
   "metadata": {},
   "source": [
    "> *Figure 2.13: Two different tortuosity models that include a percolation porosity, Eqn 90 & 91, applied to two methods of varying the permeability vs porosity models; 1. Reducing the number of tubes, 2. Reducing the radius of tubes*\n",
    "\n",
    "### Grain Size and Tubes\n",
    "The description above is focused solely on tubes, however it would be more useful if a grain size could be used. Recalling Eqn. 73, which relates permeability to surfaces area as\n",
    "\n",
    "$$ k_{absolute} = \\frac {1}{2} \\frac{\\phi}{S^2\\tau^2}$$\n",
    "\n",
    "Consider then a dense random pack of $M$ identical spherical grains with radius $r$ and porosity $\\phi_0$. The volume of each individual grains is $(4/3)\\pi r^3$ and the total volume of the pack is hence $(4/3)M\\pi r^3 /(1-\\phi_0)$. The surface area of the pore space is $4M\\pi r^3$. Therefore, for this specific case,\n",
    "\n",
    "$$S = 3(1 - \\phi_0)/r = r(1 - \\phi_0)/d$$\n",
    "\n",
    "where $d = 2r$.\n",
    "\n",
    "This equation is only valid for a sphere pack with porosity $\\phi_0 = 0.36$. However, if it was assumed to apply over the porosity range in question, the Eqn 90 and 91 can be combined so\n",
    "\n",
    "$$k_{absolute} = \\frac{r^2}{18} \\frac{\\phi^3}{(1 - \\phi)^2 \\tau^2} = \\frac{d^2}{72} \\frac{\\phi^3}{(1 - \\phi)^2 \\tau^2}$$\n",
    "\n",
    "This can then be modified by a percolation porosity $\\phi_p$.\n",
    "\n",
    "$$k_{absolute} =  \\frac{d^2}{72} \\frac{(\\phi - \\phi_p)^3}{(1 - \\phi + \\phi_p)^2 \\tau^2}$$\n",
    "\n",
    "The corresponding curve for $\\phi_p = 0.025, d = 0.25 mm$ and constant tortuosity $\\tau = 0.5$ is compared to Eqn. 91 with Tube Models 1 and 2 in the figure below."
   ]
  },
  {
   "cell_type": "code",
   "execution_count": 5,
   "id": "e19f67ed",
   "metadata": {
    "hide_input": true
   },
   "outputs": [
    {
     "data": {
      "application/vnd.plotly.v1+json": {
       "config": {
        "plotlyServerURL": "https://plot.ly"
       },
       "data": [
        {
         "marker": {
          "color": "rgb(68, 114, 196)",
          "symbol": "cross"
         },
         "mode": "markers",
         "name": "Fontainbleau Sandstone (Gomez 2010)",
         "type": "scatter",
         "x": [
          0.066,
          0.054,
          0.057,
          0.075,
          0.069,
          0.05,
          0.106,
          0.102,
          0.097,
          0.068,
          0.202,
          0.067,
          0.222,
          0.073,
          0.084,
          0.078,
          0.085,
          0.085,
          0.168,
          0.164,
          0.159,
          0.155,
          0.151,
          0.207,
          0.212,
          0.174,
          0.17,
          0.158,
          0.1,
          0.159,
          0.159,
          0.17,
          0.045,
          0.07,
          0.092,
          0.109,
          0.069,
          0.069,
          0.18,
          0.188,
          0.189,
          0.194,
          0.052,
          0.047,
          0.059,
          0.108,
          0.103,
          0.099,
          0.056,
          0.052,
          0.08,
          0.111,
          0.113,
          0.062,
          0.094,
          0.202,
          0.045,
          0.055,
          0.16,
          0.051,
          0.114,
          0.077,
          0.171,
          0.115,
          0.192,
          0.054,
          0.126,
          0.042,
          0.071
         ],
         "y": [
          1.82e-14,
          3.35e-15,
          6.3e-15,
          2.11e-14,
          4.97e-14,
          2.49e-15,
          1.54e-13,
          1.55e-13,
          1.33e-13,
          1.02e-14,
          3.4e-12,
          1.21e-14,
          3.56e-12,
          1.09e-14,
          4.23e-14,
          2.29e-14,
          5.81e-14,
          1.72e-13,
          1.64e-12,
          1.69e-12,
          1.77e-12,
          1.54e-12,
          1.22e-12,
          3.12e-12,
          4.52e-12,
          1.35e-12,
          9.81e-13,
          7.02e-13,
          1.9e-13,
          1.28e-12,
          1.19e-12,
          1.09e-12,
          1.9e-15,
          2.42e-14,
          1.82e-13,
          1.49e-13,
          1.57e-14,
          2.36e-14,
          1.74e-12,
          2.28e-12,
          2.18e-12,
          3.39e-12,
          1.2e-15,
          1.3e-15,
          5.3e-15,
          2.82e-13,
          3.99e-13,
          2e-13,
          6.1e-15,
          4.7e-15,
          4.1e-14,
          3.24e-13,
          3.59e-13,
          1.02e-14,
          9.92e-14,
          4.08e-12,
          5.24e-16,
          4.1e-15,
          1.43e-12,
          2.17e-15,
          3.16e-13,
          4.44e-14,
          1.27e-12,
          3.5e-13,
          2.88e-12,
          1.91e-15,
          5.64e-13,
          3.91e-16,
          1.72e-14
         ]
        },
        {
         "marker": {
          "color": "rgb(0,0,0)",
          "symbol": "circle-open"
         },
         "mode": "markers",
         "name": "Fontainbleau Sandstone (Revil 2014)",
         "type": "scatter",
         "x": [
          0.07,
          0.07,
          0.07,
          0.08,
          0.1,
          0.08,
          0.11,
          0.11,
          0.09,
          0.11,
          0.1,
          0.08,
          0.15,
          0.17,
          0.16,
          0.18,
          0.18,
          0.18,
          0.25,
          0.24,
          0.24,
          0.06,
          0.1
         ],
         "y": [
          9.869e-15,
          5.922e-15,
          1.184e-14,
          6.908e-15,
          4.935e-14,
          2.566e-14,
          1.017e-13,
          1.056e-13,
          7.698e-14,
          1.194e-13,
          1.549e-13,
          2.862e-14,
          5.843e-13,
          6.948e-13,
          6.287e-13,
          9.001e-13,
          9.524e-13,
          8.843e-13,
          3.583e-12,
          2.856e-12,
          3.039e-12,
          9.869e-16,
          3.158e-14
         ]
        },
        {
         "line": {
          "color": "rgb(192, 0, 0)",
          "dash": "dash",
          "width": 2
         },
         "mode": "lines",
         "name": "Eqn. 91 - Model 1. Reducing Number of Tubes",
         "type": "scatter",
         "x": [
          0.03,
          0.04,
          0.05,
          0.06,
          0.07,
          0.08,
          0.09,
          0.1,
          0.11,
          0.12,
          0.13,
          0.14,
          0.15,
          0.16,
          0.17,
          0.18,
          0.19,
          0.2,
          0.21,
          0.22,
          0.23,
          0.24,
          0.25,
          0.26,
          0.27,
          0.28,
          0.29,
          0.3
         ],
         "y": [
          4.170174813508052e-16,
          4.906090396967819e-15,
          1.670426657153867e-14,
          3.85329057825686e-14,
          7.289799905922918e-14,
          1.221055960079077e-13,
          1.882760716541103e-13,
          2.7335732716150193e-13,
          3.791370104584039e-13,
          5.072538352681101e-13,
          6.59208070219836e-13,
          8.363712635389362e-13,
          1.0399952632132039e-12,
          1.2712205874486518e-12,
          1.5310841956114409e-12,
          1.8205267056564685e-12,
          2.140399100226192e-12,
          2.4914689601286896e-12,
          2.8744262607386374e-12,
          3.2898887639792242e-12,
          3.738407035910286e-12,
          4.220469117544502e-12,
          4.736504874317526e-12,
          5.286890047630524e-12,
          5.87195003004695e-12,
          6.491963384044262e-12,
          7.147165122681154e-12,
          7.837749769129265e-12
         ]
        },
        {
         "line": {
          "color": "rgb(255, 192, 0)",
          "dash": "dash",
          "width": 2
         },
         "mode": "lines",
         "name": "Eqn. 91 - Model 2. Reducing Tube Diameter",
         "type": "scatter",
         "x": [
          0.03,
          0.04,
          0.05,
          0.06,
          0.07,
          0.08,
          0.09,
          0.1,
          0.11,
          0.12,
          0.13,
          0.14,
          0.15,
          0.16,
          0.17,
          0.18,
          0.19,
          0.2,
          0.21,
          0.22,
          0.23,
          0.24,
          0.25,
          0.26,
          0.27,
          0.28,
          0.29,
          0.3
         ],
         "y": [
          9.002063328374236e-19,
          4.19453052951158e-17,
          2.946294568598642e-16,
          1.1307674827554997e-15,
          3.17813599189357e-15,
          7.365434813309986e-15,
          1.495767153778557e-14,
          2.7583293722487065e-14,
          4.7254226599362963e-14,
          7.637982818047949e-14,
          1.177756458312901e-13,
          1.7466774639265158e-13,
          2.5069329378072473e-13,
          3.4989796194628633e-13,
          4.767306956210942e-13,
          6.360362651024977e-13,
          8.330460032803337e-13,
          1.0733670621900543e-12,
          1.3629704817075069e-12,
          1.708178323818372e-12,
          2.1156500915293133e-12,
          2.5923686213523155e-12,
          3.14562561187473e-12,
          3.783006927775325e-12,
          4.512377798366075e-12,
          5.341868011984235e-12,
          6.27985719202506e-12,
          7.334960226825076e-12
         ]
        },
        {
         "line": {
          "color": "rgb(0,0,0)",
          "width": 2
         },
         "mode": "lines",
         "name": "Eqn. 93 - Grain Model",
         "type": "scatter",
         "x": [
          0.03,
          0.04,
          0.05,
          0.06,
          0.07,
          0.08,
          0.09,
          0.1,
          0.11,
          0.12,
          0.13,
          0.14,
          0.15,
          0.16,
          0.17,
          0.18,
          0.19,
          0.2,
          0.21,
          0.22,
          0.23,
          0.24,
          0.25,
          0.26,
          0.27,
          0.28,
          0.29,
          0.3
         ],
         "y": [
          2.6789727532132982e-17,
          7.380839495993196e-16,
          3.48750821827745e-15,
          9.769086418427336e-15,
          2.1199969847317786e-14,
          3.953018952436942e-14,
          6.665324430209613e-14,
          1.0461760409057707e-13,
          1.5563921586192475e-13,
          2.2211510942889411e-13,
          3.066382104179021e-13,
          4.1201347952376405e-13,
          5.412755102040816e-13,
          6.977077316315279e-13,
          8.848633801853565e-13,
          1.1065884212737651e-12,
          1.3670466241170354e-12,
          1.6707470156106525e-12,
          2.022573965900109e-12,
          2.427820188264342e-12,
          2.8922229698192326e-12,
          3.4220039879913982e-12,
          4.023913111342352e-12,
          4.705276632918964e-12,
          5.474050440770143e-12,
          6.338878694653393e-12,
          7.3091586514878e-12,
          8.395112366230672e-12
         ]
        }
       ],
       "layout": {
        "height": 600,
        "template": {
         "data": {
          "bar": [
           {
            "error_x": {
             "color": "#2a3f5f"
            },
            "error_y": {
             "color": "#2a3f5f"
            },
            "marker": {
             "line": {
              "color": "#E5ECF6",
              "width": 0.5
             },
             "pattern": {
              "fillmode": "overlay",
              "size": 10,
              "solidity": 0.2
             }
            },
            "type": "bar"
           }
          ],
          "barpolar": [
           {
            "marker": {
             "line": {
              "color": "#E5ECF6",
              "width": 0.5
             },
             "pattern": {
              "fillmode": "overlay",
              "size": 10,
              "solidity": 0.2
             }
            },
            "type": "barpolar"
           }
          ],
          "carpet": [
           {
            "aaxis": {
             "endlinecolor": "#2a3f5f",
             "gridcolor": "white",
             "linecolor": "white",
             "minorgridcolor": "white",
             "startlinecolor": "#2a3f5f"
            },
            "baxis": {
             "endlinecolor": "#2a3f5f",
             "gridcolor": "white",
             "linecolor": "white",
             "minorgridcolor": "white",
             "startlinecolor": "#2a3f5f"
            },
            "type": "carpet"
           }
          ],
          "choropleth": [
           {
            "colorbar": {
             "outlinewidth": 0,
             "ticks": ""
            },
            "type": "choropleth"
           }
          ],
          "contour": [
           {
            "colorbar": {
             "outlinewidth": 0,
             "ticks": ""
            },
            "colorscale": [
             [
              0,
              "#0d0887"
             ],
             [
              0.1111111111111111,
              "#46039f"
             ],
             [
              0.2222222222222222,
              "#7201a8"
             ],
             [
              0.3333333333333333,
              "#9c179e"
             ],
             [
              0.4444444444444444,
              "#bd3786"
             ],
             [
              0.5555555555555556,
              "#d8576b"
             ],
             [
              0.6666666666666666,
              "#ed7953"
             ],
             [
              0.7777777777777778,
              "#fb9f3a"
             ],
             [
              0.8888888888888888,
              "#fdca26"
             ],
             [
              1,
              "#f0f921"
             ]
            ],
            "type": "contour"
           }
          ],
          "contourcarpet": [
           {
            "colorbar": {
             "outlinewidth": 0,
             "ticks": ""
            },
            "type": "contourcarpet"
           }
          ],
          "heatmap": [
           {
            "colorbar": {
             "outlinewidth": 0,
             "ticks": ""
            },
            "colorscale": [
             [
              0,
              "#0d0887"
             ],
             [
              0.1111111111111111,
              "#46039f"
             ],
             [
              0.2222222222222222,
              "#7201a8"
             ],
             [
              0.3333333333333333,
              "#9c179e"
             ],
             [
              0.4444444444444444,
              "#bd3786"
             ],
             [
              0.5555555555555556,
              "#d8576b"
             ],
             [
              0.6666666666666666,
              "#ed7953"
             ],
             [
              0.7777777777777778,
              "#fb9f3a"
             ],
             [
              0.8888888888888888,
              "#fdca26"
             ],
             [
              1,
              "#f0f921"
             ]
            ],
            "type": "heatmap"
           }
          ],
          "heatmapgl": [
           {
            "colorbar": {
             "outlinewidth": 0,
             "ticks": ""
            },
            "colorscale": [
             [
              0,
              "#0d0887"
             ],
             [
              0.1111111111111111,
              "#46039f"
             ],
             [
              0.2222222222222222,
              "#7201a8"
             ],
             [
              0.3333333333333333,
              "#9c179e"
             ],
             [
              0.4444444444444444,
              "#bd3786"
             ],
             [
              0.5555555555555556,
              "#d8576b"
             ],
             [
              0.6666666666666666,
              "#ed7953"
             ],
             [
              0.7777777777777778,
              "#fb9f3a"
             ],
             [
              0.8888888888888888,
              "#fdca26"
             ],
             [
              1,
              "#f0f921"
             ]
            ],
            "type": "heatmapgl"
           }
          ],
          "histogram": [
           {
            "marker": {
             "pattern": {
              "fillmode": "overlay",
              "size": 10,
              "solidity": 0.2
             }
            },
            "type": "histogram"
           }
          ],
          "histogram2d": [
           {
            "colorbar": {
             "outlinewidth": 0,
             "ticks": ""
            },
            "colorscale": [
             [
              0,
              "#0d0887"
             ],
             [
              0.1111111111111111,
              "#46039f"
             ],
             [
              0.2222222222222222,
              "#7201a8"
             ],
             [
              0.3333333333333333,
              "#9c179e"
             ],
             [
              0.4444444444444444,
              "#bd3786"
             ],
             [
              0.5555555555555556,
              "#d8576b"
             ],
             [
              0.6666666666666666,
              "#ed7953"
             ],
             [
              0.7777777777777778,
              "#fb9f3a"
             ],
             [
              0.8888888888888888,
              "#fdca26"
             ],
             [
              1,
              "#f0f921"
             ]
            ],
            "type": "histogram2d"
           }
          ],
          "histogram2dcontour": [
           {
            "colorbar": {
             "outlinewidth": 0,
             "ticks": ""
            },
            "colorscale": [
             [
              0,
              "#0d0887"
             ],
             [
              0.1111111111111111,
              "#46039f"
             ],
             [
              0.2222222222222222,
              "#7201a8"
             ],
             [
              0.3333333333333333,
              "#9c179e"
             ],
             [
              0.4444444444444444,
              "#bd3786"
             ],
             [
              0.5555555555555556,
              "#d8576b"
             ],
             [
              0.6666666666666666,
              "#ed7953"
             ],
             [
              0.7777777777777778,
              "#fb9f3a"
             ],
             [
              0.8888888888888888,
              "#fdca26"
             ],
             [
              1,
              "#f0f921"
             ]
            ],
            "type": "histogram2dcontour"
           }
          ],
          "mesh3d": [
           {
            "colorbar": {
             "outlinewidth": 0,
             "ticks": ""
            },
            "type": "mesh3d"
           }
          ],
          "parcoords": [
           {
            "line": {
             "colorbar": {
              "outlinewidth": 0,
              "ticks": ""
             }
            },
            "type": "parcoords"
           }
          ],
          "pie": [
           {
            "automargin": true,
            "type": "pie"
           }
          ],
          "scatter": [
           {
            "fillpattern": {
             "fillmode": "overlay",
             "size": 10,
             "solidity": 0.2
            },
            "type": "scatter"
           }
          ],
          "scatter3d": [
           {
            "line": {
             "colorbar": {
              "outlinewidth": 0,
              "ticks": ""
             }
            },
            "marker": {
             "colorbar": {
              "outlinewidth": 0,
              "ticks": ""
             }
            },
            "type": "scatter3d"
           }
          ],
          "scattercarpet": [
           {
            "marker": {
             "colorbar": {
              "outlinewidth": 0,
              "ticks": ""
             }
            },
            "type": "scattercarpet"
           }
          ],
          "scattergeo": [
           {
            "marker": {
             "colorbar": {
              "outlinewidth": 0,
              "ticks": ""
             }
            },
            "type": "scattergeo"
           }
          ],
          "scattergl": [
           {
            "marker": {
             "colorbar": {
              "outlinewidth": 0,
              "ticks": ""
             }
            },
            "type": "scattergl"
           }
          ],
          "scattermapbox": [
           {
            "marker": {
             "colorbar": {
              "outlinewidth": 0,
              "ticks": ""
             }
            },
            "type": "scattermapbox"
           }
          ],
          "scatterpolar": [
           {
            "marker": {
             "colorbar": {
              "outlinewidth": 0,
              "ticks": ""
             }
            },
            "type": "scatterpolar"
           }
          ],
          "scatterpolargl": [
           {
            "marker": {
             "colorbar": {
              "outlinewidth": 0,
              "ticks": ""
             }
            },
            "type": "scatterpolargl"
           }
          ],
          "scatterternary": [
           {
            "marker": {
             "colorbar": {
              "outlinewidth": 0,
              "ticks": ""
             }
            },
            "type": "scatterternary"
           }
          ],
          "surface": [
           {
            "colorbar": {
             "outlinewidth": 0,
             "ticks": ""
            },
            "colorscale": [
             [
              0,
              "#0d0887"
             ],
             [
              0.1111111111111111,
              "#46039f"
             ],
             [
              0.2222222222222222,
              "#7201a8"
             ],
             [
              0.3333333333333333,
              "#9c179e"
             ],
             [
              0.4444444444444444,
              "#bd3786"
             ],
             [
              0.5555555555555556,
              "#d8576b"
             ],
             [
              0.6666666666666666,
              "#ed7953"
             ],
             [
              0.7777777777777778,
              "#fb9f3a"
             ],
             [
              0.8888888888888888,
              "#fdca26"
             ],
             [
              1,
              "#f0f921"
             ]
            ],
            "type": "surface"
           }
          ],
          "table": [
           {
            "cells": {
             "fill": {
              "color": "#EBF0F8"
             },
             "line": {
              "color": "white"
             }
            },
            "header": {
             "fill": {
              "color": "#C8D4E3"
             },
             "line": {
              "color": "white"
             }
            },
            "type": "table"
           }
          ]
         },
         "layout": {
          "annotationdefaults": {
           "arrowcolor": "#2a3f5f",
           "arrowhead": 0,
           "arrowwidth": 1
          },
          "autotypenumbers": "strict",
          "coloraxis": {
           "colorbar": {
            "outlinewidth": 0,
            "ticks": ""
           }
          },
          "colorscale": {
           "diverging": [
            [
             0,
             "#8e0152"
            ],
            [
             0.1,
             "#c51b7d"
            ],
            [
             0.2,
             "#de77ae"
            ],
            [
             0.3,
             "#f1b6da"
            ],
            [
             0.4,
             "#fde0ef"
            ],
            [
             0.5,
             "#f7f7f7"
            ],
            [
             0.6,
             "#e6f5d0"
            ],
            [
             0.7,
             "#b8e186"
            ],
            [
             0.8,
             "#7fbc41"
            ],
            [
             0.9,
             "#4d9221"
            ],
            [
             1,
             "#276419"
            ]
           ],
           "sequential": [
            [
             0,
             "#0d0887"
            ],
            [
             0.1111111111111111,
             "#46039f"
            ],
            [
             0.2222222222222222,
             "#7201a8"
            ],
            [
             0.3333333333333333,
             "#9c179e"
            ],
            [
             0.4444444444444444,
             "#bd3786"
            ],
            [
             0.5555555555555556,
             "#d8576b"
            ],
            [
             0.6666666666666666,
             "#ed7953"
            ],
            [
             0.7777777777777778,
             "#fb9f3a"
            ],
            [
             0.8888888888888888,
             "#fdca26"
            ],
            [
             1,
             "#f0f921"
            ]
           ],
           "sequentialminus": [
            [
             0,
             "#0d0887"
            ],
            [
             0.1111111111111111,
             "#46039f"
            ],
            [
             0.2222222222222222,
             "#7201a8"
            ],
            [
             0.3333333333333333,
             "#9c179e"
            ],
            [
             0.4444444444444444,
             "#bd3786"
            ],
            [
             0.5555555555555556,
             "#d8576b"
            ],
            [
             0.6666666666666666,
             "#ed7953"
            ],
            [
             0.7777777777777778,
             "#fb9f3a"
            ],
            [
             0.8888888888888888,
             "#fdca26"
            ],
            [
             1,
             "#f0f921"
            ]
           ]
          },
          "colorway": [
           "#636efa",
           "#EF553B",
           "#00cc96",
           "#ab63fa",
           "#FFA15A",
           "#19d3f3",
           "#FF6692",
           "#B6E880",
           "#FF97FF",
           "#FECB52"
          ],
          "font": {
           "color": "#2a3f5f"
          },
          "geo": {
           "bgcolor": "white",
           "lakecolor": "white",
           "landcolor": "#E5ECF6",
           "showlakes": true,
           "showland": true,
           "subunitcolor": "white"
          },
          "hoverlabel": {
           "align": "left"
          },
          "hovermode": "closest",
          "mapbox": {
           "style": "light"
          },
          "paper_bgcolor": "white",
          "plot_bgcolor": "#E5ECF6",
          "polar": {
           "angularaxis": {
            "gridcolor": "white",
            "linecolor": "white",
            "ticks": ""
           },
           "bgcolor": "#E5ECF6",
           "radialaxis": {
            "gridcolor": "white",
            "linecolor": "white",
            "ticks": ""
           }
          },
          "scene": {
           "xaxis": {
            "backgroundcolor": "#E5ECF6",
            "gridcolor": "white",
            "gridwidth": 2,
            "linecolor": "white",
            "showbackground": true,
            "ticks": "",
            "zerolinecolor": "white"
           },
           "yaxis": {
            "backgroundcolor": "#E5ECF6",
            "gridcolor": "white",
            "gridwidth": 2,
            "linecolor": "white",
            "showbackground": true,
            "ticks": "",
            "zerolinecolor": "white"
           },
           "zaxis": {
            "backgroundcolor": "#E5ECF6",
            "gridcolor": "white",
            "gridwidth": 2,
            "linecolor": "white",
            "showbackground": true,
            "ticks": "",
            "zerolinecolor": "white"
           }
          },
          "shapedefaults": {
           "line": {
            "color": "#2a3f5f"
           }
          },
          "ternary": {
           "aaxis": {
            "gridcolor": "white",
            "linecolor": "white",
            "ticks": ""
           },
           "baxis": {
            "gridcolor": "white",
            "linecolor": "white",
            "ticks": ""
           },
           "bgcolor": "#E5ECF6",
           "caxis": {
            "gridcolor": "white",
            "linecolor": "white",
            "ticks": ""
           }
          },
          "title": {
           "x": 0.05
          },
          "xaxis": {
           "automargin": true,
           "gridcolor": "white",
           "linecolor": "white",
           "ticks": "",
           "title": {
            "standoff": 15
           },
           "zerolinecolor": "white",
           "zerolinewidth": 2
          },
          "yaxis": {
           "automargin": true,
           "gridcolor": "white",
           "linecolor": "white",
           "ticks": "",
           "title": {
            "standoff": 15
           },
           "zerolinecolor": "white",
           "zerolinewidth": 2
          }
         }
        },
        "title": {
         "text": "Permeability vs Porosity, Experimental Data vs Grain Model vs Best Tube Models"
        },
        "xaxis": {
         "autorange": true,
         "showline": true,
         "title": {
          "text": "Porosity (%)"
         }
        },
        "yaxis": {
         "autorange": true,
         "showline": true,
         "title": {
          "text": "Permeability (m^2)"
         },
         "type": "log"
        }
       }
      }
     },
     "metadata": {},
     "output_type": "display_data"
    }
   ],
   "source": [
    "d=2*b\n",
    "f=0.025\n",
    "t=0.5\n",
    "innerp=por_i-f\n",
    "innerp2=1-innerp\n",
    "innerpcube=np.power(innerp,3)\n",
    "inerpsquare=np.power(innerp2,2)\n",
    "kp=((d*d)/(72))*((innerp*innerp*innerp)/(innerp2*innerp2*t*t))\n",
    "\n",
    "line10 = dict( # Particle Line\n",
    "    color = (black),\n",
    "    width = 2\n",
    ")\n",
    "\n",
    "trace10 = go.Scatter(\n",
    "    y = kp,\n",
    "    x = por_i,\n",
    "    mode = 'lines',\n",
    "    name = 'Eqn. 93 - Grain Model',\n",
    "    line = line10\n",
    ")\n",
    "\n",
    "data = [trace8, trace9, trace5, trace6, trace10]\n",
    "\n",
    "# setup the chart layout\n",
    "layout = go.Layout(\n",
    "    title = 'Permeability vs Porosity, Experimental Data vs Grain Model vs Best Tube Models',\n",
    "    height=600,\n",
    "    yaxis=dict(\n",
    "        title='Permeability (m^2)',\n",
    "        type='log',\n",
    "        showline=True,\n",
    "        autorange=True\n",
    "    ),\n",
    "    xaxis=dict(\n",
    "        title='Porosity (%)',\n",
    "        showline=True,\n",
    "        autorange=True\n",
    "    )\n",
    ")\n",
    "fig = go.Figure(data=data, layout=layout)\n",
    "fig.show()"
   ]
  },
  {
   "cell_type": "markdown",
   "id": "c6c88fdd",
   "metadata": {},
   "source": [
    "> *Figure 2.14: A grain size model that includes a percolation porosity compared to the tortuous tube model, Eqn 91, applied to two methods of varying the permeability vs porosity models; 1. Reducing the number of tubes, 2. Reducing the radius of tubes*\n",
    "\n",
    "### Summary\n",
    "The previous analysis, using the Jack Dvorkin (cite) approach with different Fontainbleau data, proves that simple tube models can precisely model the behaviour of real porous granular materials such as sandstone, by extension with additional concepts (tortuosity, relating tortuosity to porosity, and percolation porosity). Further, by using a simple analogy comparing the surface area of random packed spheres against the surface area of the tubes, a \"grain-size\" model can be developed, which is surprisingly effective (see Fig 2.14).\n",
    "\n",
    "How can wriggly tubes represent the permeability behaviour of porous granular material? The previous derivations of tube and sphere flow demonstrates their flow behaviour is completely different. How can one represent the other? When are they similar, how close together do the particles have to be before this tube analogy can be used?\n",
    "\n",
    "In essence, as spheres become closer and closer, the differences between flow between them and flow down a tube disappear, or appear to. Another view on this fascinating phenomenon is provided in the next Section on Friction factors, where tubes, spheres and packed bed are compared"
   ]
  },
  {
   "cell_type": "code",
   "execution_count": null,
   "id": "898083bc",
   "metadata": {},
   "outputs": [],
   "source": []
  }
 ],
 "metadata": {
  "hide_input": true,
  "kernelspec": {
   "display_name": "Python 3 (ipykernel)",
   "language": "python",
   "name": "python3"
  },
  "language_info": {
   "codemirror_mode": {
    "name": "ipython",
    "version": 3
   },
   "file_extension": ".py",
   "mimetype": "text/x-python",
   "name": "python",
   "nbconvert_exporter": "python",
   "pygments_lexer": "ipython3",
   "version": "3.11.3"
  },
  "toc": {
   "base_numbering": 1,
   "nav_menu": {},
   "number_sections": true,
   "sideBar": true,
   "skip_h1_title": false,
   "title_cell": "Table of Contents",
   "title_sidebar": "Contents",
   "toc_cell": false,
   "toc_position": {},
   "toc_section_display": true,
   "toc_window_display": false
  }
 },
 "nbformat": 4,
 "nbformat_minor": 5
}
